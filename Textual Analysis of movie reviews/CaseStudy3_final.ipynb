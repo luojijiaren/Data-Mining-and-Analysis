{
 "cells": [
  {
   "cell_type": "markdown",
   "metadata": {},
   "source": [
    "# Case Study 3 : Textual analysis of movie reviews\n",
    "\n",
    "** Due Date: November 17, 2016 5:59PM**\n",
    "\n",
    "*------------"
   ]
  },
  {
   "cell_type": "markdown",
   "metadata": {},
   "source": [
    "<img src=\"http://www.conversational-technologies.com/nldemos/nlWordle.GIF\">"
   ]
  },
  {
   "cell_type": "markdown",
   "metadata": {},
   "source": [
    "**TEAM Members:** Please EDIT this cell and add the names of all the team members in your team\n",
    "\n",
    "    Hang Ding\n",
    "\n",
    "    Fangling Zhang\n",
    "\n",
    "    Qingquan Zhao\n",
    "\n",
    "    Yihao Zhou\n",
    "\n",
    "    Tongge Zhu"
   ]
  },
  {
   "cell_type": "markdown",
   "metadata": {},
   "source": [
    "**Desired outcome of the case study.**\n",
    "* In this case study we will look at movie reviews from the v2.0 polarity dataset comes from\n",
    "the http://www.cs.cornell.edu/people/pabo/movie-review-data.\n",
    "    * It contains written reviews of movies divided into positive and negative reviews.\n",
    "* As in Case Study 2 idea is to *analyze* the data set, make *conjectures*, support or refute those conjectures with *data*, and *tell a story* about the data!\n",
    "    \n",
    "**Required Readings:** \n",
    "* This case study will be based upon the scikit-learn Python library\n",
    "* We will build upon the turtorial \"Working With Text Data\" which can be found at http://scikit-learn.org/stable/tutorial/text_analytics/working_with_text_data.html\n",
    "\n",
    "**Case study assumptions:**\n",
    "* You have access to a python installation\n",
    "\n",
    "**Required Python libraries:**\n",
    "* Numpy (www.numpy.org) (should already be installed from Case Study 2)\n",
    "* Matplotlib (matplotlib.org) (should already be installed from Case Study 2)\n",
    "* Scikit-learn (scikit-learn.org) (avaiable from Enthought Canopy)\n",
    "* You are also welcome to use the Python Natural Language Processing Toolkit (www.nltk.org) (though it is not required).\n",
    "\n",
    "** NOTE **\n",
    "* Please don't forget to save the notebook frequently when working in IPython Notebook, otherwise the changes you made can be lost.\n",
    "\n",
    "*----------------------"
   ]
  },
  {
   "cell_type": "markdown",
   "metadata": {},
   "source": [
    "## Problem 1 (20 points): Complete Exercise 2: Sentiment Analysis on movie reviews from http://scikit-learn.org/stable/tutorial/text_analytics/working_with_text_data.html"
   ]
  },
  {
   "cell_type": "markdown",
   "metadata": {},
   "source": [
    "* Assuming that you have downloaded the scikit-learn source code:\n",
    "    * The data cane be downloaded using doc/tutorial/text_analytics/data/movie_reviews/fetch_data.py\n",
    "    * A skeleton for the solution can be found in doc/tutorial/text_analytics/skeletons/exercise_02_sentiment.py\n",
    "    * A completed solution can be found in doc/tutorial/text_analytics/solutions/exercise_02_sentiment.py\n",
    "* **It is ok to use the solution provided in the scikit-learn distribution as a starting place for your work.**\n",
    "\n",
    "### Modify the solution to Exercise 2 so that it can run in this iPython notebook\n",
    "* This will likely involved moving around data files and/or small modifications to the script."
   ]
  },
  {
   "cell_type": "code",
   "execution_count": 14,
   "metadata": {
    "collapsed": false
   },
   "outputs": [
    {
     "name": "stdout",
     "output_type": "stream",
     "text": [
      "Using matplotlib backend: MacOSX\n",
      "n_samples: 2002\n",
      "0 params - {'vect__ngram_range': (1, 1)}; mean - 0.83; std - 0.01\n",
      "1 params - {'vect__ngram_range': (1, 2)}; mean - 0.85; std - 0.01\n",
      "             precision    recall  f1-score   support\n",
      "\n",
      "        neg       0.84      0.84      0.84       232\n",
      "        pos       0.86      0.86      0.86       269\n",
      "\n",
      "avg / total       0.85      0.85      0.85       501\n",
      "\n",
      "[[194  38]\n",
      " [ 38 231]]\n"
     ]
    }
   ],
   "source": [
    "\"\"\"Build a sentiment analysis / polarity model\n",
    "\n",
    "Sentiment analysis can be casted as a binary text classification problem,\n",
    "that is fitting a linear classifier on features extracted from the text\n",
    "of the user messages so as to guess wether the opinion of the author is\n",
    "positive or negative.\n",
    "\n",
    "In this examples we will use a movie review dataset.\n",
    "\n",
    "\"\"\"\n",
    "# Author: Olivier Grisel <olivier.grisel@ensta.org>\n",
    "# License: Simplified BSD\n",
    "\n",
    "import sys\n",
    "from sklearn.feature_extraction.text import TfidfVectorizer\n",
    "from sklearn.svm import LinearSVC\n",
    "from sklearn.pipeline import Pipeline\n",
    "from sklearn.model_selection import GridSearchCV\n",
    "from sklearn.datasets import load_files\n",
    "from sklearn.model_selection import train_test_split\n",
    "from sklearn import metrics\n",
    "import matplotlib.pyplot as plt\n",
    "%matplotlib\n",
    "\n",
    "\n",
    "if __name__ == \"__main__\":\n",
    "    # NOTE: we put the following in a 'if __name__ == \"__main__\"' protected\n",
    "    # block to be able to use a multi-core grid search that also works under\n",
    "    # Windows, see: http://docs.python.org/library/multiprocessing.html#windows\n",
    "    # The multiprocessing module is used as the backend of joblib.Parallel\n",
    "    # that is used when n_jobs != 1 in GridSearchCV\n",
    "\n",
    "    # the training data folder must be passed as first argument\n",
    "    categories = ['neg', 'pos']\n",
    "\n",
    "\n",
    "    movie_reviews_data_folder = 'movie_reviews/txt_sentoken.2'\n",
    "    dataset = load_files(movie_reviews_data_folder, categories=categories, shuffle=True)\n",
    "    #print(dataset.target)\n",
    "    print(\"n_samples: %d\" % len(dataset.data))\n",
    "\n",
    "    # split the dataset in training and test set:\n",
    "    docs_train, docs_test, y_train, y_test = train_test_split(\n",
    "        dataset.data, dataset.target, test_size=0.25, random_state=None)\n",
    "    #print(list(y_test[:2]))\n",
    "    #print(list(docs_test[:2]))\n",
    "\n",
    "\n",
    "    # TASK: Build a vectorizer / classifier pipeline that\\ filters out tokens\n",
    "    # that are too rare or too frequent\n",
    "\n",
    "    # from sklearn.feature_extraction.text import CountVectorizer\n",
    "    # count_vect = CountVectorizer(encoding = \"ISO-8859-1\")\n",
    "    # X_train_counts = count_vect.fit_transform(docs_train)\n",
    "    # print(X_train_counts.shape)\n",
    "\n",
    "    # from sklearn.feature_extraction.text import TfidfTransformer\n",
    "    # tf_transformer = TfidfTransformer(use_idf=False).fit(X_train_counts)\n",
    "    # X_train_tf = tf_transformer.transform(X_train_counts)\n",
    "    #print(X_train_tf.shape)\n",
    "\n",
    "    pipeline = Pipeline([\n",
    "        ('vect', TfidfVectorizer(decode_error='ignore',min_df=3, max_df=0.95)),\n",
    "        ('clf', LinearSVC(C=1000)),\n",
    "    ])\n",
    "\n",
    "\n",
    "    # TASK: Build a grid search to find out whether unigrams or bigrams are\n",
    "    # more useful.\n",
    "    # Fit the pipeline on the training set using grid search for the parameters\n",
    "    parameters = {\n",
    "        'vect__ngram_range': [(1, 1), (1, 2)],\n",
    "    }\n",
    "    grid_search = GridSearchCV(pipeline, parameters, n_jobs=-1)\n",
    "    grid_search.fit(docs_train, y_train)\n",
    "\n",
    "    # TASK: print the cross-validated scores for the each parameters set\n",
    "    # explored by the grid search\n",
    "    n_candidates = len(grid_search.cv_results_['params'])\n",
    "    for i in range(n_candidates):\n",
    "        print(i, 'params - %s; mean - %0.2f; std - %0.2f'\n",
    "                 % (grid_search.cv_results_['params'][i],\n",
    "                    grid_search.cv_results_['mean_test_score'][i],\n",
    "                    grid_search.cv_results_['std_test_score'][i]))\n",
    "\n",
    "\n",
    "    # TASK: Predict the outcome on the testing set and store it in a variable\n",
    "    # named y_predicted\n",
    "    y_predicted = grid_search.predict(docs_test)\n",
    "\n",
    "    # Print the classification report\n",
    "    print(metrics.classification_report(y_test, y_predicted,\n",
    "                                         target_names=dataset.target_names))\n",
    "\n",
    "    # # Print and plot the confusion matrix\n",
    "    cm = metrics.confusion_matrix(y_test, y_predicted)\n",
    "    print(cm)\n",
    "\n",
    "\n",
    "  \n"
   ]
  },
  {
   "cell_type": "markdown",
   "metadata": {},
   "source": [
    "## Problem 2 (20 points): Explore the scikit-learn TfidVectorizer class\n",
    "\n",
    "**Read the documentation for the TfidVectorizer class at http://scikit-learn.org/stable/modules/generated/sklearn.feature_extraction.text.TfidfVectorizer.html.** \n",
    "* Define the term frequency–inverse document frequency (TF-IDF) statistic (http://en.wikipedia.org/wiki/Tf%E2%80%93idf will likely help).\n",
    "* Run the TfidVectorizer class on the training data above (docs_train).\n",
    "* Explore the min_df and max_df parameters of TfidVectorizer.  What do they mean? How do they change the features you get?\n",
    "* Explore the ngram_range parameter of TfidVectorizer.  What does it mean? How does it change the features you get? (Note, large values  of ngram_range may take a long time to run!)"
   ]
  },
  {
   "cell_type": "markdown",
   "metadata": {},
   "source": [
    "Tf-idf stands for term frequency-inverse document frequency, and the tf-idf weight is a weight often used in information retrieval and text mining. This weight is a statistical measure used to evaluate how important a word is to a document in a collection or corpus. The importance increases proportionally to the number of times a word appears in the document but is offset by the frequency of the word in the corpus. Variations of the tf-idf weighting scheme are often used by search engines as a central tool in scoring and ranking a document's relevance given a user query."
   ]
  },
  {
   "cell_type": "markdown",
   "metadata": {},
   "source": [
    "TF: Term Frequency, which measures how frequently a term occurs in a document. Since every document is different in length, it is possible that a term would appear much more times in long documents than shorter ones. Thus, the term frequency is often divided by the document length (aka. the total number of terms in the document) as a way of normalization: \n",
    "\n",
    "TF(t) = (Number of times term t appears in a document) / (Total number of terms in the document).\n",
    "\n",
    "IDF: Inverse Document Frequency, which measures how important a term is. While computing TF, all terms are considered equally important. However it is known that certain terms, such as \"is\", \"of\", and \"that\", may appear a lot of times but have little importance. Thus we need to weigh down the frequent terms while scale up the rare ones, by computing the following: \n",
    "\n",
    "IDF(t) = log_e(Total number of documents / Number of documents with term t in it)."
   ]
  },
  {
   "cell_type": "markdown",
   "metadata": {},
   "source": [
    "min_df means: When building the vocabulary ignore terms that have a document frequency strictly lower than the given threshold (corpus-specific stop words). \n",
    "* If float, the parameter represents a proportion of documents, integer absolute counts. \n",
    "* When min_df is larger, the shape of vectorized result is smaller and we will get less features.\n"
   ]
  },
  {
   "cell_type": "code",
   "execution_count": 3,
   "metadata": {
    "collapsed": false
   },
   "outputs": [
    {
     "name": "stdout",
     "output_type": "stream",
     "text": [
      "[35034, 35034, 20801, 15817, 12971, 11057, 9652, 8621, 7782, 7139, 6621, 6168, 5738, 5376, 5075, 4780, 4516, 4294, 4098, 3908, 3732, 3585, 3443, 3316, 3191, 3075, 2977, 2885, 2802, 2717, 2628, 2530, 2464, 2399, 2336, 2274, 2203, 2148, 2098, 2053, 2009, 1978, 1947, 1912, 1867, 1829, 1790, 1759, 1723, 1691, 1660, 1629, 1589, 1560, 1522, 1493, 1476, 1454, 1433, 1407, 1387, 1371, 1351, 1330, 1309, 1289, 1269, 1244, 1223, 1198, 1182, 1164, 1144, 1125, 1111, 1100, 1087, 1076, 1060, 1053, 1038, 1030, 1017, 1000, 988, 979, 968, 957, 953, 945, 938, 924, 914, 904, 896, 885, 876, 866, 855, 844]\n"
     ]
    }
   ],
   "source": [
    "#max_df and n_gram_range were fixed, and a systematic screening of min_df value from 0 to 99 was performed. \n",
    "y =[]\n",
    "for i in range(100):\n",
    "    vect =TfidfVectorizer(decode_error='ignore',min_df=i, max_df=1.0, ngram_range = (1,1))\n",
    "    X_train_tf = vect.fit_transform(docs_train)\n",
    "    y.append(X_train_tf.shape[1])\n",
    "print(y)\n",
    "    \n"
   ]
  },
  {
   "cell_type": "code",
   "execution_count": 8,
   "metadata": {
    "collapsed": false
   },
   "outputs": [
    {
     "data": {
      "image/png": "[encoded data removed]",
      "text/plain": [
       "<matplotlib.figure.Figure at 0x11723cda0>"
      ]
     },
     "metadata": {},
     "output_type": "display_data"
    }
   ],
   "source": [
    "#The plotting result clearly indicates that the feature numbers decreased exponentially once the min_df increases.\n",
    "import numpy as np\n",
    "import matplotlib.pyplot as plt\n",
    "%matplotlib inline\n",
    "\n",
    "t = np.arange(len(y))\n",
    "plt.plot(t, y)\n",
    "plt.xlabel(\"min_df\")\n",
    "plt.ylabel(\"Shape\")\n",
    "  \n",
    "plt.title(\"Relation between min_df and shape\")\n",
    "plt.show()"
   ]
  },
  {
   "cell_type": "markdown",
   "metadata": {},
   "source": [
    "max_df means: When building the vocabulary ignore terms that have a document frequency strictly higher than the given threshold (corpus-specific stop words). \n",
    "* If float, the parameter represents a proportion of documents, integer absolute counts. \n",
    "* When max_df is smaller, the shape of vectorized result is smaller and we will get less features.\n"
   ]
  },
  {
   "cell_type": "code",
   "execution_count": 17,
   "metadata": {
    "collapsed": false
   },
   "outputs": [
    {
     "name": "stdout",
     "output_type": "stream",
     "text": [
      "[14308, 29522, 31872, 32851, 33416, 33754, 34021, 34222, 34353, 34458, 34541, 34617, 34677, 34753, 34810, 34857, 34895, 34927, 34949, 34976, 34997, 35012, 35032, 35046, 35067, 35082, 35092, 35102, 35113, 35122, 35131, 35139, 35148, 35155, 35160, 35169, 35177, 35183, 35191, 35195, 35199, 35202, 35205, 35213, 35220, 35226, 35234, 35240, 35245, 35247, 35254, 35258, 35263, 35267, 35267, 35268, 35272, 35278, 35281, 35282, 35284, 35287, 35287, 35292, 35296, 35296, 35298, 35300, 35302, 35303, 35307, 35307, 35311, 35312, 35316, 35317, 35317, 35318, 35318, 35320, 35324, 35326, 35331, 35333, 35335, 35335, 35337, 35337, 35337, 35338, 35339, 35339, 35339, 35340, 35340, 35341, 35342, 35342, 35343, 35345]\n"
     ]
    }
   ],
   "source": [
    "#min_df and n_gram_range were fixed, and a systematic screening of man_df value from 0 to 1000 was performed. \n",
    "max_df_y =[]\n",
    "l= np.arange(1,1000,10)\n",
    "\n",
    "for i in l:\n",
    "    vect =TfidfVectorizer(decode_error='ignore',min_df=1, max_df=i, ngram_range = (1,1))\n",
    "    X_train_tf2 = vect.fit_transform(docs_train)\n",
    "    max_df_y.append(X_train_tf2.shape[1])\n",
    "print(max_df_y)"
   ]
  },
  {
   "cell_type": "code",
   "execution_count": 20,
   "metadata": {
    "collapsed": false
   },
   "outputs": [
    {
     "data": {
      "image/png": "[encoded data removed]",
      "text/plain": [
       "<matplotlib.figure.Figure at 0x114bb5ef0>"
      ]
     },
     "metadata": {},
     "output_type": "display_data"
    }
   ],
   "source": [
    "#The plotting result clearly indicates that the feature numbers increased exponentially once the max_df increases.\n",
    "x_len = np.arange(len(max_df_y))\n",
    "plt.plot(x_len*10,max_df_y)\n",
    "plt.xlabel(\"max_df\")\n",
    "plt.ylabel(\"Shape\")\n",
    "  \n",
    "plt.title(\"Relation between max_df and shape\")\n",
    "plt.show()"
   ]
  },
  {
   "cell_type": "code",
   "execution_count": 22,
   "metadata": {
    "collapsed": false
   },
   "outputs": [
    {
     "data": {
      "image/png": "[encoded data removed]",
      "text/plain": [
       "<matplotlib.figure.Figure at 0x1176d7ef0>"
      ]
     },
     "metadata": {},
     "output_type": "display_data"
    }
   ],
   "source": [
    "max_df_delta =[]\n",
    "for i in range(len(max_df_y)-1):\n",
    "    max_df_delta.append(max_df_y[i+1]-max_df_y[i])\n",
    "    \n",
    "x_len2 = np.arange(len(max_df_delta))\n",
    "\n",
    "plt.plot(x_len2*10,max_df_delta)\n",
    "plt.xlabel(\"max_df_delta\")\n",
    "plt.ylabel(\"Shape\")\n",
    "  \n",
    "plt.title(\"Relation between max_df_delta and shape\")\n",
    "plt.show()\n",
    "    "
   ]
  },
  {
   "cell_type": "markdown",
   "metadata": {},
   "source": [
    "* n-gram: in the fields of computational linguistics and probability, an n-gram is a contiguous sequence of n items from a given sequence of text or speech.\n",
    "* ngram_range means: The lower and upper boundary of the range of n-values for different n-grams to be extracted. \n",
    "* When upper boundary of ngram_range is larger, the shape of vectorized result is larger and we will get more features."
   ]
  },
  {
   "cell_type": "code",
   "execution_count": 15,
   "metadata": {
    "collapsed": false
   },
   "outputs": [
    {
     "name": "stdout",
     "output_type": "stream",
     "text": [
      "ngram_range - (1, 1); shape - 35394;\n",
      "ngram_range - (2, 2); shape - 401280;\n",
      "ngram_range - (3, 3); shape - 765125;\n",
      "ngram_range - (4, 4); shape - 897186;\n",
      "ngram_range - (1, 2); shape - 436674;\n",
      "ngram_range - (2, 3); shape - 1166405;\n",
      "ngram_range - (3, 4); shape - 1662311;\n",
      "ngram_range - (1, 3); shape - 1201799;\n",
      "ngram_range - (2, 4); shape - 2063591;\n",
      "ngram_range - (1, 4); shape - 2098985;\n"
     ]
    }
   ],
   "source": [
    "#A combination set of {(1,1), (2,2), (3,3), (4,4), (1,2), (2,3), (3,4), (1,3), (2,4), (1,4)} was searched one by one with fixed values of min_df and max_df.  \n",
    "t=[(1,1),(2,2),(3,3),(4,4),(1,2),(2,3),(3,4),(1,3),(2,4),(1,4)]\n",
    "for i in t:\n",
    "    vect =TfidfVectorizer(decode_error='ignore',min_df=1, max_df=1.0, ngram_range = i)\n",
    "    X_train_tf = vect.fit_transform(docs_train)\n",
    "\n",
    "    print('ngram_range - %s; shape - %s;'\n",
    "                 % (i, X_train_tf.shape[1]))"
   ]
  },
  {
   "cell_type": "markdown",
   "metadata": {},
   "source": [
    "*------------------------\n",
    "\n",
    "## Problem 3 (20 points): Machine learning algorithms\n"
   ]
  },
  {
   "cell_type": "markdown",
   "metadata": {},
   "source": [
    "* Based upon Problem 2 pick some parameters for TfidfVectorizer\n",
    "    * \"fit\" your TfidfVectorizer using docs_train\n",
    "    * Compute \"Xtrain\", a Tf-idf-weighted document-term matrix using the transform function on docs_train\n",
    "    * Compute \"Xtest\", a Tf-idf-weighted document-term matrix using the transform function on docs_test\n",
    "    * Note, be sure to use the same Tf-idf-weighted class (**\"fit\" using docs_train**) to transform **both** docs_test and docs_train\n",
    "* Examine two classifiers provided by scikit-learn \n",
    "    * LinearSVC\n",
    "    * KNeighborsClassifier\n",
    "    * Try a number of different parameter settings for each and judge your performance using a confusion matrix (see Problem 1 for an example).\n",
    "* Does one classifier, or one set of parameters work better?\n",
    "    * Why do you think it might be working better?\n",
    "* For a particular choice of parameters and classifier, look at 2 examples where the prediction was incorrect.\n",
    "    * Can you conjecture on why the classifier made a mistake for this prediction?"
   ]
  },
  {
   "cell_type": "code",
   "execution_count": 10,
   "metadata": {
    "collapsed": false
   },
   "outputs": [
    {
     "name": "stdout",
     "output_type": "stream",
     "text": [
      "(1501, 16670)\n",
      "(501, 16670)\n"
     ]
    }
   ],
   "source": [
    "vect =TfidfVectorizer(decode_error='ignore',ngram_range=(1,2),min_df=10, max_df=0.75)\n",
    "Xtrain = vect.fit_transform(docs_train)\n",
    "Xtest = vect.transform(docs_test)\n",
    "print(Xtrain.shape)\n",
    "print(Xtest.shape)"
   ]
  },
  {
   "cell_type": "code",
   "execution_count": 15,
   "metadata": {
    "collapsed": true
   },
   "outputs": [],
   "source": [
    "parameters = {\n",
    "        'vect__max_df': [0.5, 0.75, 1.0],\n",
    "        'vect__ngram_range': [(1, 1), (2, 2),(1,2),(1,3),(1,4),(2,4)],  # unigrams or bigrams\n",
    "        'vect__min_df': [1,2,4,8,16,32]\n",
    "        }"
   ]
  },
  {
   "cell_type": "code",
   "execution_count": 16,
   "metadata": {
    "collapsed": false
   },
   "outputs": [],
   "source": [
    "#the SVM classifier with the error penalty parameter C to be 1000\n",
    "pipeline = Pipeline([\n",
    "        ('vect', TfidfVectorizer(decode_error='ignore')),\n",
    "        ('clf', LinearSVC(C=1000)),\n",
    "    ])"
   ]
  },
  {
   "cell_type": "code",
   "execution_count": 29,
   "metadata": {
    "collapsed": false
   },
   "outputs": [
    {
     "data": {
      "text/plain": [
       "GridSearchCV(cv=None, error_score='raise',\n",
       "       estimator=Pipeline(steps=[('vect', TfidfVectorizer(analyzer='word', binary=False, decode_error='ignore',\n",
       "        dtype=<class 'numpy.int64'>, encoding='utf-8', input='content',\n",
       "        lowercase=True, max_df=1.0, max_features=None, min_df=1,\n",
       "        ngram_range=(1, 1), norm='l2', preprocessor=None, smooth_idf=True,\n",
       "  ...ax_iter=1000,\n",
       "     multi_class='ovr', penalty='l2', random_state=None, tol=0.0001,\n",
       "     verbose=0))]),\n",
       "       fit_params={}, iid=True, n_jobs=1,\n",
       "       param_grid={'vect__max_df': [0.5, 0.75, 1.0], 'vect__ngram_range': [(1, 1), (2, 2), (1, 2), (1, 3), (1, 4), (2, 4)], 'vect__min_df': [1, 2, 4, 8, 16, 32]},\n",
       "       pre_dispatch='2*n_jobs', refit=True, return_train_score=True,\n",
       "       scoring=None, verbose=0)"
      ]
     },
     "execution_count": 29,
     "metadata": {},
     "output_type": "execute_result"
    }
   ],
   "source": [
    "grid_search = GridSearchCV(pipeline, parameters, n_jobs=1)    \n",
    "grid_search.fit(docs_train, y_train)\n",
    "\n"
   ]
  },
  {
   "cell_type": "code",
   "execution_count": 30,
   "metadata": {
    "collapsed": false
   },
   "outputs": [
    {
     "name": "stdout",
     "output_type": "stream",
     "text": [
      "0 params - {'vect__max_df': 0.5, 'vect__ngram_range': (1, 1), 'vect__min_df': 1}; mean - 0.82; std - 0.02\n",
      "1 params - {'vect__max_df': 0.5, 'vect__ngram_range': (2, 2), 'vect__min_df': 1}; mean - 0.75; std - 0.05\n",
      "2 params - {'vect__max_df': 0.5, 'vect__ngram_range': (1, 2), 'vect__min_df': 1}; mean - 0.81; std - 0.04\n",
      "3 params - {'vect__max_df': 0.5, 'vect__ngram_range': (1, 3), 'vect__min_df': 1}; mean - 0.75; std - 0.07\n",
      "4 params - {'vect__max_df': 0.5, 'vect__ngram_range': (1, 4), 'vect__min_df': 1}; mean - 0.69; std - 0.11\n",
      "5 params - {'vect__max_df': 0.5, 'vect__ngram_range': (2, 4), 'vect__min_df': 1}; mean - 0.66; std - 0.10\n",
      "6 params - {'vect__max_df': 0.5, 'vect__ngram_range': (1, 1), 'vect__min_df': 2}; mean - 0.82; std - 0.02\n",
      "7 params - {'vect__max_df': 0.5, 'vect__ngram_range': (2, 2), 'vect__min_df': 2}; mean - 0.77; std - 0.01\n",
      "8 params - {'vect__max_df': 0.5, 'vect__ngram_range': (1, 2), 'vect__min_df': 2}; mean - 0.83; std - 0.04\n",
      "9 params - {'vect__max_df': 0.5, 'vect__ngram_range': (1, 3), 'vect__min_df': 2}; mean - 0.83; std - 0.04\n",
      "10 params - {'vect__max_df': 0.5, 'vect__ngram_range': (1, 4), 'vect__min_df': 2}; mean - 0.83; std - 0.04\n",
      "11 params - {'vect__max_df': 0.5, 'vect__ngram_range': (2, 4), 'vect__min_df': 2}; mean - 0.76; std - 0.01\n",
      "12 params - {'vect__max_df': 0.5, 'vect__ngram_range': (1, 1), 'vect__min_df': 4}; mean - 0.82; std - 0.03\n",
      "13 params - {'vect__max_df': 0.5, 'vect__ngram_range': (2, 2), 'vect__min_df': 4}; mean - 0.77; std - 0.01\n",
      "14 params - {'vect__max_df': 0.5, 'vect__ngram_range': (1, 2), 'vect__min_df': 4}; mean - 0.83; std - 0.04\n",
      "15 params - {'vect__max_df': 0.5, 'vect__ngram_range': (1, 3), 'vect__min_df': 4}; mean - 0.83; std - 0.04\n",
      "16 params - {'vect__max_df': 0.5, 'vect__ngram_range': (1, 4), 'vect__min_df': 4}; mean - 0.83; std - 0.04\n",
      "17 params - {'vect__max_df': 0.5, 'vect__ngram_range': (2, 4), 'vect__min_df': 4}; mean - 0.77; std - 0.01\n",
      "18 params - {'vect__max_df': 0.5, 'vect__ngram_range': (1, 1), 'vect__min_df': 8}; mean - 0.82; std - 0.02\n",
      "19 params - {'vect__max_df': 0.5, 'vect__ngram_range': (2, 2), 'vect__min_df': 8}; mean - 0.78; std - 0.01\n",
      "20 params - {'vect__max_df': 0.5, 'vect__ngram_range': (1, 2), 'vect__min_df': 8}; mean - 0.84; std - 0.03\n",
      "21 params - {'vect__max_df': 0.5, 'vect__ngram_range': (1, 3), 'vect__min_df': 8}; mean - 0.84; std - 0.03\n",
      "22 params - {'vect__max_df': 0.5, 'vect__ngram_range': (1, 4), 'vect__min_df': 8}; mean - 0.84; std - 0.03\n",
      "23 params - {'vect__max_df': 0.5, 'vect__ngram_range': (2, 4), 'vect__min_df': 8}; mean - 0.77; std - 0.01\n",
      "24 params - {'vect__max_df': 0.5, 'vect__ngram_range': (1, 1), 'vect__min_df': 16}; mean - 0.81; std - 0.02\n",
      "25 params - {'vect__max_df': 0.5, 'vect__ngram_range': (2, 2), 'vect__min_df': 16}; mean - 0.75; std - 0.01\n",
      "26 params - {'vect__max_df': 0.5, 'vect__ngram_range': (1, 2), 'vect__min_df': 16}; mean - 0.84; std - 0.02\n",
      "27 params - {'vect__max_df': 0.5, 'vect__ngram_range': (1, 3), 'vect__min_df': 16}; mean - 0.83; std - 0.02\n",
      "28 params - {'vect__max_df': 0.5, 'vect__ngram_range': (1, 4), 'vect__min_df': 16}; mean - 0.83; std - 0.02\n",
      "29 params - {'vect__max_df': 0.5, 'vect__ngram_range': (2, 4), 'vect__min_df': 16}; mean - 0.74; std - 0.00\n",
      "30 params - {'vect__max_df': 0.5, 'vect__ngram_range': (1, 1), 'vect__min_df': 32}; mean - 0.79; std - 0.02\n",
      "31 params - {'vect__max_df': 0.5, 'vect__ngram_range': (2, 2), 'vect__min_df': 32}; mean - 0.69; std - 0.02\n",
      "32 params - {'vect__max_df': 0.5, 'vect__ngram_range': (1, 2), 'vect__min_df': 32}; mean - 0.80; std - 0.01\n",
      "33 params - {'vect__max_df': 0.5, 'vect__ngram_range': (1, 3), 'vect__min_df': 32}; mean - 0.80; std - 0.01\n",
      "34 params - {'vect__max_df': 0.5, 'vect__ngram_range': (1, 4), 'vect__min_df': 32}; mean - 0.80; std - 0.01\n",
      "35 params - {'vect__max_df': 0.5, 'vect__ngram_range': (2, 4), 'vect__min_df': 32}; mean - 0.69; std - 0.02\n",
      "36 params - {'vect__max_df': 0.75, 'vect__ngram_range': (1, 1), 'vect__min_df': 1}; mean - 0.83; std - 0.02\n",
      "37 params - {'vect__max_df': 0.75, 'vect__ngram_range': (2, 2), 'vect__min_df': 1}; mean - 0.75; std - 0.05\n",
      "38 params - {'vect__max_df': 0.75, 'vect__ngram_range': (1, 2), 'vect__min_df': 1}; mean - 0.81; std - 0.04\n",
      "39 params - {'vect__max_df': 0.75, 'vect__ngram_range': (1, 3), 'vect__min_df': 1}; mean - 0.75; std - 0.07\n",
      "40 params - {'vect__max_df': 0.75, 'vect__ngram_range': (1, 4), 'vect__min_df': 1}; mean - 0.68; std - 0.11\n",
      "41 params - {'vect__max_df': 0.75, 'vect__ngram_range': (2, 4), 'vect__min_df': 1}; mean - 0.64; std - 0.11\n",
      "42 params - {'vect__max_df': 0.75, 'vect__ngram_range': (1, 1), 'vect__min_df': 2}; mean - 0.82; std - 0.02\n",
      "43 params - {'vect__max_df': 0.75, 'vect__ngram_range': (2, 2), 'vect__min_df': 2}; mean - 0.77; std - 0.01\n",
      "44 params - {'vect__max_df': 0.75, 'vect__ngram_range': (1, 2), 'vect__min_df': 2}; mean - 0.83; std - 0.03\n",
      "45 params - {'vect__max_df': 0.75, 'vect__ngram_range': (1, 3), 'vect__min_df': 2}; mean - 0.83; std - 0.04\n",
      "46 params - {'vect__max_df': 0.75, 'vect__ngram_range': (1, 4), 'vect__min_df': 2}; mean - 0.82; std - 0.04\n",
      "47 params - {'vect__max_df': 0.75, 'vect__ngram_range': (2, 4), 'vect__min_df': 2}; mean - 0.76; std - 0.01\n",
      "48 params - {'vect__max_df': 0.75, 'vect__ngram_range': (1, 1), 'vect__min_df': 4}; mean - 0.83; std - 0.02\n",
      "49 params - {'vect__max_df': 0.75, 'vect__ngram_range': (2, 2), 'vect__min_df': 4}; mean - 0.77; std - 0.02\n",
      "50 params - {'vect__max_df': 0.75, 'vect__ngram_range': (1, 2), 'vect__min_df': 4}; mean - 0.84; std - 0.03\n",
      "51 params - {'vect__max_df': 0.75, 'vect__ngram_range': (1, 3), 'vect__min_df': 4}; mean - 0.83; std - 0.04\n",
      "52 params - {'vect__max_df': 0.75, 'vect__ngram_range': (1, 4), 'vect__min_df': 4}; mean - 0.83; std - 0.03\n",
      "53 params - {'vect__max_df': 0.75, 'vect__ngram_range': (2, 4), 'vect__min_df': 4}; mean - 0.78; std - 0.00\n",
      "54 params - {'vect__max_df': 0.75, 'vect__ngram_range': (1, 1), 'vect__min_df': 8}; mean - 0.83; std - 0.02\n",
      "55 params - {'vect__max_df': 0.75, 'vect__ngram_range': (2, 2), 'vect__min_df': 8}; mean - 0.78; std - 0.01\n",
      "56 params - {'vect__max_df': 0.75, 'vect__ngram_range': (1, 2), 'vect__min_df': 8}; mean - 0.84; std - 0.02\n",
      "57 params - {'vect__max_df': 0.75, 'vect__ngram_range': (1, 3), 'vect__min_df': 8}; mean - 0.85; std - 0.02\n",
      "58 params - {'vect__max_df': 0.75, 'vect__ngram_range': (1, 4), 'vect__min_df': 8}; mean - 0.84; std - 0.02\n",
      "59 params - {'vect__max_df': 0.75, 'vect__ngram_range': (2, 4), 'vect__min_df': 8}; mean - 0.77; std - 0.01\n",
      "60 params - {'vect__max_df': 0.75, 'vect__ngram_range': (1, 1), 'vect__min_df': 16}; mean - 0.82; std - 0.01\n",
      "61 params - {'vect__max_df': 0.75, 'vect__ngram_range': (2, 2), 'vect__min_df': 16}; mean - 0.75; std - 0.01\n",
      "62 params - {'vect__max_df': 0.75, 'vect__ngram_range': (1, 2), 'vect__min_df': 16}; mean - 0.84; std - 0.02\n",
      "63 params - {'vect__max_df': 0.75, 'vect__ngram_range': (1, 3), 'vect__min_df': 16}; mean - 0.84; std - 0.02\n",
      "64 params - {'vect__max_df': 0.75, 'vect__ngram_range': (1, 4), 'vect__min_df': 16}; mean - 0.84; std - 0.02\n",
      "65 params - {'vect__max_df': 0.75, 'vect__ngram_range': (2, 4), 'vect__min_df': 16}; mean - 0.75; std - 0.00\n",
      "66 params - {'vect__max_df': 0.75, 'vect__ngram_range': (1, 1), 'vect__min_df': 32}; mean - 0.79; std - 0.01\n",
      "67 params - {'vect__max_df': 0.75, 'vect__ngram_range': (2, 2), 'vect__min_df': 32}; mean - 0.69; std - 0.02\n",
      "68 params - {'vect__max_df': 0.75, 'vect__ngram_range': (1, 2), 'vect__min_df': 32}; mean - 0.81; std - 0.01\n",
      "69 params - {'vect__max_df': 0.75, 'vect__ngram_range': (1, 3), 'vect__min_df': 32}; mean - 0.80; std - 0.01\n",
      "70 params - {'vect__max_df': 0.75, 'vect__ngram_range': (1, 4), 'vect__min_df': 32}; mean - 0.80; std - 0.01\n",
      "71 params - {'vect__max_df': 0.75, 'vect__ngram_range': (2, 4), 'vect__min_df': 32}; mean - 0.69; std - 0.01\n",
      "72 params - {'vect__max_df': 1.0, 'vect__ngram_range': (1, 1), 'vect__min_df': 1}; mean - 0.83; std - 0.03\n",
      "73 params - {'vect__max_df': 1.0, 'vect__ngram_range': (2, 2), 'vect__min_df': 1}; mean - 0.75; std - 0.05\n",
      "74 params - {'vect__max_df': 1.0, 'vect__ngram_range': (1, 2), 'vect__min_df': 1}; mean - 0.80; std - 0.03\n",
      "75 params - {'vect__max_df': 1.0, 'vect__ngram_range': (1, 3), 'vect__min_df': 1}; mean - 0.71; std - 0.06\n",
      "76 params - {'vect__max_df': 1.0, 'vect__ngram_range': (1, 4), 'vect__min_df': 1}; mean - 0.63; std - 0.08\n",
      "77 params - {'vect__max_df': 1.0, 'vect__ngram_range': (2, 4), 'vect__min_df': 1}; mean - 0.64; std - 0.11\n",
      "78 params - {'vect__max_df': 1.0, 'vect__ngram_range': (1, 1), 'vect__min_df': 2}; mean - 0.83; std - 0.03\n",
      "79 params - {'vect__max_df': 1.0, 'vect__ngram_range': (2, 2), 'vect__min_df': 2}; mean - 0.76; std - 0.02\n",
      "80 params - {'vect__max_df': 1.0, 'vect__ngram_range': (1, 2), 'vect__min_df': 2}; mean - 0.83; std - 0.03\n",
      "81 params - {'vect__max_df': 1.0, 'vect__ngram_range': (1, 3), 'vect__min_df': 2}; mean - 0.82; std - 0.02\n",
      "82 params - {'vect__max_df': 1.0, 'vect__ngram_range': (1, 4), 'vect__min_df': 2}; mean - 0.82; std - 0.02\n",
      "83 params - {'vect__max_df': 1.0, 'vect__ngram_range': (2, 4), 'vect__min_df': 2}; mean - 0.76; std - 0.01\n",
      "84 params - {'vect__max_df': 1.0, 'vect__ngram_range': (1, 1), 'vect__min_df': 4}; mean - 0.83; std - 0.02\n",
      "85 params - {'vect__max_df': 1.0, 'vect__ngram_range': (2, 2), 'vect__min_df': 4}; mean - 0.78; std - 0.02\n",
      "86 params - {'vect__max_df': 1.0, 'vect__ngram_range': (1, 2), 'vect__min_df': 4}; mean - 0.84; std - 0.03\n",
      "87 params - {'vect__max_df': 1.0, 'vect__ngram_range': (1, 3), 'vect__min_df': 4}; mean - 0.83; std - 0.03\n",
      "88 params - {'vect__max_df': 1.0, 'vect__ngram_range': (1, 4), 'vect__min_df': 4}; mean - 0.83; std - 0.02\n",
      "89 params - {'vect__max_df': 1.0, 'vect__ngram_range': (2, 4), 'vect__min_df': 4}; mean - 0.78; std - 0.01\n",
      "90 params - {'vect__max_df': 1.0, 'vect__ngram_range': (1, 1), 'vect__min_df': 8}; mean - 0.83; std - 0.02\n",
      "91 params - {'vect__max_df': 1.0, 'vect__ngram_range': (2, 2), 'vect__min_df': 8}; mean - 0.77; std - 0.01\n",
      "92 params - {'vect__max_df': 1.0, 'vect__ngram_range': (1, 2), 'vect__min_df': 8}; mean - 0.84; std - 0.03\n",
      "93 params - {'vect__max_df': 1.0, 'vect__ngram_range': (1, 3), 'vect__min_df': 8}; mean - 0.84; std - 0.03\n",
      "94 params - {'vect__max_df': 1.0, 'vect__ngram_range': (1, 4), 'vect__min_df': 8}; mean - 0.84; std - 0.02\n",
      "95 params - {'vect__max_df': 1.0, 'vect__ngram_range': (2, 4), 'vect__min_df': 8}; mean - 0.77; std - 0.01\n",
      "96 params - {'vect__max_df': 1.0, 'vect__ngram_range': (1, 1), 'vect__min_df': 16}; mean - 0.82; std - 0.02\n",
      "97 params - {'vect__max_df': 1.0, 'vect__ngram_range': (2, 2), 'vect__min_df': 16}; mean - 0.75; std - 0.01\n",
      "98 params - {'vect__max_df': 1.0, 'vect__ngram_range': (1, 2), 'vect__min_df': 16}; mean - 0.84; std - 0.01\n",
      "99 params - {'vect__max_df': 1.0, 'vect__ngram_range': (1, 3), 'vect__min_df': 16}; mean - 0.84; std - 0.02\n",
      "100 params - {'vect__max_df': 1.0, 'vect__ngram_range': (1, 4), 'vect__min_df': 16}; mean - 0.84; std - 0.02\n",
      "101 params - {'vect__max_df': 1.0, 'vect__ngram_range': (2, 4), 'vect__min_df': 16}; mean - 0.75; std - 0.01\n",
      "102 params - {'vect__max_df': 1.0, 'vect__ngram_range': (1, 1), 'vect__min_df': 32}; mean - 0.80; std - 0.01\n",
      "103 params - {'vect__max_df': 1.0, 'vect__ngram_range': (2, 2), 'vect__min_df': 32}; mean - 0.70; std - 0.02\n",
      "104 params - {'vect__max_df': 1.0, 'vect__ngram_range': (1, 2), 'vect__min_df': 32}; mean - 0.81; std - 0.02\n",
      "105 params - {'vect__max_df': 1.0, 'vect__ngram_range': (1, 3), 'vect__min_df': 32}; mean - 0.81; std - 0.01\n",
      "106 params - {'vect__max_df': 1.0, 'vect__ngram_range': (1, 4), 'vect__min_df': 32}; mean - 0.81; std - 0.01\n",
      "107 params - {'vect__max_df': 1.0, 'vect__ngram_range': (2, 4), 'vect__min_df': 32}; mean - 0.69; std - 0.01\n"
     ]
    }
   ],
   "source": [
    "n_candidates = len(grid_search.cv_results_['params'])\n",
    "for i in range(n_candidates):\n",
    "    print(i, 'params - %s; mean - %0.2f; std - %0.2f'\n",
    "          % (grid_search.cv_results_['params'][i],\n",
    "             grid_search.cv_results_['mean_test_score'][i],\n",
    "             grid_search.cv_results_['std_test_score'][i]))"
   ]
  },
  {
   "cell_type": "code",
   "execution_count": 31,
   "metadata": {
    "collapsed": false
   },
   "outputs": [
    {
     "name": "stdout",
     "output_type": "stream",
     "text": [
      "0.846102598268\n",
      "vect__max_df: 0.75\n",
      "vect__min_df: 8\n",
      "vect__ngram_range: (1, 3)\n",
      "             precision    recall  f1-score   support\n",
      "\n",
      "        neg       0.83      0.87      0.85       236\n",
      "        pos       0.88      0.85      0.86       265\n",
      "\n",
      "avg / total       0.86      0.86      0.86       501\n",
      "\n",
      "[[205  31]\n",
      " [ 41 224]]\n"
     ]
    }
   ],
   "source": [
    "print(grid_search.best_score_)\n",
    "for param_name in sorted(parameters.keys()):\n",
    "    print(\"%s: %r\" % (param_name, grid_search.best_params_[param_name]))   \n",
    "y_predicted = grid_search.predict(docs_test)    \n",
    "print(metrics.classification_report(y_test, y_predicted,\n",
    "                                         target_names=dataset.target_names))\n",
    "\n",
    "cm = metrics.confusion_matrix(y_test, y_predicted)\n",
    "print(cm)"
   ]
  },
  {
   "cell_type": "code",
   "execution_count": 31,
   "metadata": {
    "collapsed": true
   },
   "outputs": [],
   "source": [
    "#the SVM classifier with the error penalty parameter C to be [1, 500 ,1000]\n",
    "pipeline = Pipeline([\n",
    "        ('vect', TfidfVectorizer(decode_error='ignore')),\n",
    "        ('clf', LinearSVC()),\n",
    "    ])"
   ]
  },
  {
   "cell_type": "code",
   "execution_count": 30,
   "metadata": {
    "collapsed": false
   },
   "outputs": [],
   "source": [
    "parameters = {\n",
    "        'vect__max_df': [0.5, 0.75],\n",
    "        'vect__ngram_range': [(1,2),(1,3)],  # unigrams or bigrams\n",
    "        'vect__min_df': [8],\n",
    "        'clf__C': [1,500,1000],\n",
    "        }"
   ]
  },
  {
   "cell_type": "code",
   "execution_count": 32,
   "metadata": {
    "collapsed": false
   },
   "outputs": [
    {
     "data": {
      "text/plain": [
       "GridSearchCV(cv=None, error_score='raise',\n",
       "       estimator=Pipeline(steps=[('vect', TfidfVectorizer(analyzer='word', binary=False, decode_error='ignore',\n",
       "        dtype=<class 'numpy.int64'>, encoding='utf-8', input='content',\n",
       "        lowercase=True, max_df=1.0, max_features=None, min_df=1,\n",
       "        ngram_range=(1, 1), norm='l2', preprocessor=None, smooth_idf=True,\n",
       "  ...ax_iter=1000,\n",
       "     multi_class='ovr', penalty='l2', random_state=None, tol=0.0001,\n",
       "     verbose=0))]),\n",
       "       fit_params={}, iid=True, n_jobs=1,\n",
       "       param_grid={'vect__ngram_range': [(1, 2), (1, 3)], 'clf__C': [1, 500, 1000], 'vect__max_df': [0.5, 0.75], 'vect__min_df': [8]},\n",
       "       pre_dispatch='2*n_jobs', refit=True, return_train_score=True,\n",
       "       scoring=None, verbose=0)"
      ]
     },
     "execution_count": 32,
     "metadata": {},
     "output_type": "execute_result"
    }
   ],
   "source": [
    "grid_search = GridSearchCV(pipeline, parameters, n_jobs=1)\n",
    "grid_search.fit(docs_train, y_train)\n"
   ]
  },
  {
   "cell_type": "code",
   "execution_count": 33,
   "metadata": {
    "collapsed": false
   },
   "outputs": [
    {
     "name": "stdout",
     "output_type": "stream",
     "text": [
      "0.859427048634\n",
      "clf__C: 1000\n",
      "vect__max_df: 0.75\n",
      "vect__min_df: 8\n",
      "vect__ngram_range: (1, 2)\n",
      "             precision    recall  f1-score   support\n",
      "\n",
      "        neg       0.83      0.85      0.84       232\n",
      "        pos       0.87      0.86      0.86       269\n",
      "\n",
      "avg / total       0.85      0.85      0.85       501\n",
      "\n",
      "[[197  35]\n",
      " [ 39 230]]\n"
     ]
    }
   ],
   "source": [
    "print(grid_search.best_score_)\n",
    "for param_name in sorted(parameters.keys()):\n",
    "    print(\"%s: %r\" % (param_name, grid_search.best_params_[param_name]))   \n",
    "y_predicted = grid_search.predict(docs_test)    \n",
    "print(metrics.classification_report(y_test, y_predicted,\n",
    "                                         target_names=dataset.target_names))\n",
    "\n",
    "cm = metrics.confusion_matrix(y_test, y_predicted)\n",
    "print(cm)"
   ]
  },
  {
   "cell_type": "code",
   "execution_count": 40,
   "metadata": {
    "collapsed": false
   },
   "outputs": [],
   "source": [
    "import pandas as pd\n",
    "from pandas import Series, DataFrame\n",
    "Frame = DataFrame(grid_search.cv_results_)\n",
    "Frame.to_csv('LineSVC_grid_search')\n"
   ]
  },
  {
   "cell_type": "code",
   "execution_count": 10,
   "metadata": {
    "collapsed": true
   },
   "outputs": [],
   "source": [
    "from sklearn.neighbors import KNeighborsClassifier as KNC"
   ]
  },
  {
   "cell_type": "code",
   "execution_count": 12,
   "metadata": {
    "collapsed": false
   },
   "outputs": [],
   "source": [
    "#The KNN classifier with n_neighbors set to be 20\n",
    "pipeline_KNC = Pipeline([\n",
    "        ('vect', TfidfVectorizer(decode_error='ignore')),\n",
    "        ('clf', KNC(n_neighbors = 20)),\n",
    "        ])"
   ]
  },
  {
   "cell_type": "code",
   "execution_count": 13,
   "metadata": {
    "collapsed": false
   },
   "outputs": [
    {
     "data": {
      "text/plain": [
       "GridSearchCV(cv=None, error_score='raise',\n",
       "       estimator=Pipeline(steps=[('vect', TfidfVectorizer(analyzer='word', binary=False, decode_error='ignore',\n",
       "        dtype=<class 'numpy.int64'>, encoding='utf-8', input='content',\n",
       "        lowercase=True, max_df=1.0, max_features=None, min_df=1,\n",
       "        ngram_range=(1, 1), norm='l2', preprocessor=None, smooth_idf=True,\n",
       "  ...wski',\n",
       "           metric_params=None, n_jobs=1, n_neighbors=20, p=2,\n",
       "           weights='uniform'))]),\n",
       "       fit_params={}, iid=True, n_jobs=1,\n",
       "       param_grid={'vect__ngram_range': [(1, 1), (2, 2), (1, 2), (1, 3), (1, 4), (2, 4)], 'vect__max_df': [0.5, 0.75, 1.0], 'vect__min_df': [1, 2, 4, 8, 16, 32]},\n",
       "       pre_dispatch='2*n_jobs', refit=True, return_train_score=True,\n",
       "       scoring=None, verbose=0)"
      ]
     },
     "execution_count": 13,
     "metadata": {},
     "output_type": "execute_result"
    }
   ],
   "source": [
    "grid_search_KNC = GridSearchCV(pipeline_KNC, parameters, n_jobs=1)    \n",
    "grid_search_KNC.fit(docs_train, y_train)\n"
   ]
  },
  {
   "cell_type": "code",
   "execution_count": 14,
   "metadata": {
    "collapsed": false
   },
   "outputs": [],
   "source": [
    "import pandas as pd\n",
    "from pandas import Series, DataFrame\n",
    "Frame_KNC = DataFrame(grid_search_KNC.cv_results_)\n",
    "Frame_KNC.to_csv('KNC_grid_search')"
   ]
  },
  {
   "cell_type": "code",
   "execution_count": 16,
   "metadata": {
    "collapsed": false
   },
   "outputs": [
    {
     "name": "stdout",
     "output_type": "stream",
     "text": [
      "0 params - {'vect__ngram_range': (1, 1), 'vect__max_df': 0.5, 'vect__min_df': 1}; mean - 0.70; std - 0.02\n",
      "1 params - {'vect__ngram_range': (2, 2), 'vect__max_df': 0.5, 'vect__min_df': 1}; mean - 0.72; std - 0.01\n",
      "2 params - {'vect__ngram_range': (1, 2), 'vect__max_df': 0.5, 'vect__min_df': 1}; mean - 0.70; std - 0.02\n",
      "3 params - {'vect__ngram_range': (1, 3), 'vect__max_df': 0.5, 'vect__min_df': 1}; mean - 0.71; std - 0.03\n",
      "4 params - {'vect__ngram_range': (1, 4), 'vect__max_df': 0.5, 'vect__min_df': 1}; mean - 0.71; std - 0.03\n",
      "5 params - {'vect__ngram_range': (2, 4), 'vect__max_df': 0.5, 'vect__min_df': 1}; mean - 0.73; std - 0.01\n",
      "6 params - {'vect__ngram_range': (1, 1), 'vect__max_df': 0.5, 'vect__min_df': 2}; mean - 0.70; std - 0.03\n",
      "7 params - {'vect__ngram_range': (2, 2), 'vect__max_df': 0.5, 'vect__min_df': 2}; mean - 0.71; std - 0.01\n",
      "8 params - {'vect__ngram_range': (1, 2), 'vect__max_df': 0.5, 'vect__min_df': 2}; mean - 0.70; std - 0.02\n",
      "9 params - {'vect__ngram_range': (1, 3), 'vect__max_df': 0.5, 'vect__min_df': 2}; mean - 0.71; std - 0.02\n",
      "10 params - {'vect__ngram_range': (1, 4), 'vect__max_df': 0.5, 'vect__min_df': 2}; mean - 0.71; std - 0.02\n",
      "11 params - {'vect__ngram_range': (2, 4), 'vect__max_df': 0.5, 'vect__min_df': 2}; mean - 0.73; std - 0.02\n",
      "12 params - {'vect__ngram_range': (1, 1), 'vect__max_df': 0.5, 'vect__min_df': 4}; mean - 0.69; std - 0.01\n",
      "13 params - {'vect__ngram_range': (2, 2), 'vect__max_df': 0.5, 'vect__min_df': 4}; mean - 0.72; std - 0.01\n",
      "14 params - {'vect__ngram_range': (1, 2), 'vect__max_df': 0.5, 'vect__min_df': 4}; mean - 0.69; std - 0.01\n",
      "15 params - {'vect__ngram_range': (1, 3), 'vect__max_df': 0.5, 'vect__min_df': 4}; mean - 0.69; std - 0.01\n",
      "16 params - {'vect__ngram_range': (1, 4), 'vect__max_df': 0.5, 'vect__min_df': 4}; mean - 0.70; std - 0.02\n",
      "17 params - {'vect__ngram_range': (2, 4), 'vect__max_df': 0.5, 'vect__min_df': 4}; mean - 0.72; std - 0.01\n",
      "18 params - {'vect__ngram_range': (1, 1), 'vect__max_df': 0.5, 'vect__min_df': 8}; mean - 0.69; std - 0.02\n",
      "19 params - {'vect__ngram_range': (2, 2), 'vect__max_df': 0.5, 'vect__min_df': 8}; mean - 0.72; std - 0.03\n",
      "20 params - {'vect__ngram_range': (1, 2), 'vect__max_df': 0.5, 'vect__min_df': 8}; mean - 0.70; std - 0.02\n",
      "21 params - {'vect__ngram_range': (1, 3), 'vect__max_df': 0.5, 'vect__min_df': 8}; mean - 0.70; std - 0.02\n",
      "22 params - {'vect__ngram_range': (1, 4), 'vect__max_df': 0.5, 'vect__min_df': 8}; mean - 0.70; std - 0.02\n",
      "23 params - {'vect__ngram_range': (2, 4), 'vect__max_df': 0.5, 'vect__min_df': 8}; mean - 0.73; std - 0.03\n",
      "24 params - {'vect__ngram_range': (1, 1), 'vect__max_df': 0.5, 'vect__min_df': 16}; mean - 0.67; std - 0.02\n",
      "25 params - {'vect__ngram_range': (2, 2), 'vect__max_df': 0.5, 'vect__min_df': 16}; mean - 0.69; std - 0.02\n",
      "26 params - {'vect__ngram_range': (1, 2), 'vect__max_df': 0.5, 'vect__min_df': 16}; mean - 0.69; std - 0.02\n",
      "27 params - {'vect__ngram_range': (1, 3), 'vect__max_df': 0.5, 'vect__min_df': 16}; mean - 0.70; std - 0.02\n",
      "28 params - {'vect__ngram_range': (1, 4), 'vect__max_df': 0.5, 'vect__min_df': 16}; mean - 0.70; std - 0.02\n",
      "29 params - {'vect__ngram_range': (2, 4), 'vect__max_df': 0.5, 'vect__min_df': 16}; mean - 0.69; std - 0.03\n",
      "30 params - {'vect__ngram_range': (1, 1), 'vect__max_df': 0.5, 'vect__min_df': 32}; mean - 0.69; std - 0.01\n",
      "31 params - {'vect__ngram_range': (2, 2), 'vect__max_df': 0.5, 'vect__min_df': 32}; mean - 0.68; std - 0.02\n",
      "32 params - {'vect__ngram_range': (1, 2), 'vect__max_df': 0.5, 'vect__min_df': 32}; mean - 0.71; std - 0.02\n",
      "33 params - {'vect__ngram_range': (1, 3), 'vect__max_df': 0.5, 'vect__min_df': 32}; mean - 0.72; std - 0.01\n",
      "34 params - {'vect__ngram_range': (1, 4), 'vect__max_df': 0.5, 'vect__min_df': 32}; mean - 0.72; std - 0.01\n",
      "35 params - {'vect__ngram_range': (2, 4), 'vect__max_df': 0.5, 'vect__min_df': 32}; mean - 0.68; std - 0.01\n",
      "36 params - {'vect__ngram_range': (1, 1), 'vect__max_df': 0.75, 'vect__min_df': 1}; mean - 0.70; std - 0.01\n",
      "37 params - {'vect__ngram_range': (2, 2), 'vect__max_df': 0.75, 'vect__min_df': 1}; mean - 0.72; std - 0.02\n",
      "38 params - {'vect__ngram_range': (1, 2), 'vect__max_df': 0.75, 'vect__min_df': 1}; mean - 0.70; std - 0.02\n",
      "39 params - {'vect__ngram_range': (1, 3), 'vect__max_df': 0.75, 'vect__min_df': 1}; mean - 0.70; std - 0.03\n",
      "40 params - {'vect__ngram_range': (1, 4), 'vect__max_df': 0.75, 'vect__min_df': 1}; mean - 0.70; std - 0.04\n",
      "41 params - {'vect__ngram_range': (2, 4), 'vect__max_df': 0.75, 'vect__min_df': 1}; mean - 0.73; std - 0.01\n",
      "42 params - {'vect__ngram_range': (1, 1), 'vect__max_df': 0.75, 'vect__min_df': 2}; mean - 0.69; std - 0.02\n",
      "43 params - {'vect__ngram_range': (2, 2), 'vect__max_df': 0.75, 'vect__min_df': 2}; mean - 0.72; std - 0.01\n",
      "44 params - {'vect__ngram_range': (1, 2), 'vect__max_df': 0.75, 'vect__min_df': 2}; mean - 0.70; std - 0.02\n",
      "45 params - {'vect__ngram_range': (1, 3), 'vect__max_df': 0.75, 'vect__min_df': 2}; mean - 0.71; std - 0.03\n",
      "46 params - {'vect__ngram_range': (1, 4), 'vect__max_df': 0.75, 'vect__min_df': 2}; mean - 0.71; std - 0.03\n",
      "47 params - {'vect__ngram_range': (2, 4), 'vect__max_df': 0.75, 'vect__min_df': 2}; mean - 0.72; std - 0.02\n",
      "48 params - {'vect__ngram_range': (1, 1), 'vect__max_df': 0.75, 'vect__min_df': 4}; mean - 0.68; std - 0.02\n",
      "49 params - {'vect__ngram_range': (2, 2), 'vect__max_df': 0.75, 'vect__min_df': 4}; mean - 0.71; std - 0.03\n",
      "50 params - {'vect__ngram_range': (1, 2), 'vect__max_df': 0.75, 'vect__min_df': 4}; mean - 0.69; std - 0.02\n",
      "51 params - {'vect__ngram_range': (1, 3), 'vect__max_df': 0.75, 'vect__min_df': 4}; mean - 0.70; std - 0.02\n",
      "52 params - {'vect__ngram_range': (1, 4), 'vect__max_df': 0.75, 'vect__min_df': 4}; mean - 0.70; std - 0.02\n",
      "53 params - {'vect__ngram_range': (2, 4), 'vect__max_df': 0.75, 'vect__min_df': 4}; mean - 0.72; std - 0.03\n",
      "54 params - {'vect__ngram_range': (1, 1), 'vect__max_df': 0.75, 'vect__min_df': 8}; mean - 0.67; std - 0.03\n",
      "55 params - {'vect__ngram_range': (2, 2), 'vect__max_df': 0.75, 'vect__min_df': 8}; mean - 0.72; std - 0.03\n",
      "56 params - {'vect__ngram_range': (1, 2), 'vect__max_df': 0.75, 'vect__min_df': 8}; mean - 0.69; std - 0.03\n",
      "57 params - {'vect__ngram_range': (1, 3), 'vect__max_df': 0.75, 'vect__min_df': 8}; mean - 0.70; std - 0.03\n",
      "58 params - {'vect__ngram_range': (1, 4), 'vect__max_df': 0.75, 'vect__min_df': 8}; mean - 0.70; std - 0.04\n",
      "59 params - {'vect__ngram_range': (2, 4), 'vect__max_df': 0.75, 'vect__min_df': 8}; mean - 0.72; std - 0.03\n",
      "60 params - {'vect__ngram_range': (1, 1), 'vect__max_df': 0.75, 'vect__min_df': 16}; mean - 0.67; std - 0.01\n",
      "61 params - {'vect__ngram_range': (2, 2), 'vect__max_df': 0.75, 'vect__min_df': 16}; mean - 0.67; std - 0.02\n",
      "62 params - {'vect__ngram_range': (1, 2), 'vect__max_df': 0.75, 'vect__min_df': 16}; mean - 0.69; std - 0.02\n",
      "63 params - {'vect__ngram_range': (1, 3), 'vect__max_df': 0.75, 'vect__min_df': 16}; mean - 0.69; std - 0.03\n",
      "64 params - {'vect__ngram_range': (1, 4), 'vect__max_df': 0.75, 'vect__min_df': 16}; mean - 0.69; std - 0.03\n",
      "65 params - {'vect__ngram_range': (2, 4), 'vect__max_df': 0.75, 'vect__min_df': 16}; mean - 0.69; std - 0.01\n",
      "66 params - {'vect__ngram_range': (1, 1), 'vect__max_df': 0.75, 'vect__min_df': 32}; mean - 0.68; std - 0.01\n",
      "67 params - {'vect__ngram_range': (2, 2), 'vect__max_df': 0.75, 'vect__min_df': 32}; mean - 0.67; std - 0.04\n",
      "68 params - {'vect__ngram_range': (1, 2), 'vect__max_df': 0.75, 'vect__min_df': 32}; mean - 0.71; std - 0.03\n",
      "69 params - {'vect__ngram_range': (1, 3), 'vect__max_df': 0.75, 'vect__min_df': 32}; mean - 0.71; std - 0.03\n",
      "70 params - {'vect__ngram_range': (1, 4), 'vect__max_df': 0.75, 'vect__min_df': 32}; mean - 0.71; std - 0.03\n",
      "71 params - {'vect__ngram_range': (2, 4), 'vect__max_df': 0.75, 'vect__min_df': 32}; mean - 0.68; std - 0.02\n",
      "72 params - {'vect__ngram_range': (1, 1), 'vect__max_df': 1.0, 'vect__min_df': 1}; mean - 0.52; std - 0.02\n",
      "73 params - {'vect__ngram_range': (2, 2), 'vect__max_df': 1.0, 'vect__min_df': 1}; mean - 0.69; std - 0.01\n",
      "74 params - {'vect__ngram_range': (1, 2), 'vect__max_df': 1.0, 'vect__min_df': 1}; mean - 0.51; std - 0.01\n",
      "75 params - {'vect__ngram_range': (1, 3), 'vect__max_df': 1.0, 'vect__min_df': 1}; mean - 0.51; std - 0.00\n",
      "76 params - {'vect__ngram_range': (1, 4), 'vect__max_df': 1.0, 'vect__min_df': 1}; mean - 0.50; std - 0.00\n",
      "77 params - {'vect__ngram_range': (2, 4), 'vect__max_df': 1.0, 'vect__min_df': 1}; mean - 0.71; std - 0.02\n",
      "78 params - {'vect__ngram_range': (1, 1), 'vect__max_df': 1.0, 'vect__min_df': 2}; mean - 0.52; std - 0.01\n",
      "79 params - {'vect__ngram_range': (2, 2), 'vect__max_df': 1.0, 'vect__min_df': 2}; mean - 0.71; std - 0.01\n",
      "80 params - {'vect__ngram_range': (1, 2), 'vect__max_df': 1.0, 'vect__min_df': 2}; mean - 0.52; std - 0.01\n",
      "81 params - {'vect__ngram_range': (1, 3), 'vect__max_df': 1.0, 'vect__min_df': 2}; mean - 0.52; std - 0.02\n",
      "82 params - {'vect__ngram_range': (1, 4), 'vect__max_df': 1.0, 'vect__min_df': 2}; mean - 0.52; std - 0.02\n",
      "83 params - {'vect__ngram_range': (2, 4), 'vect__max_df': 1.0, 'vect__min_df': 2}; mean - 0.72; std - 0.01\n",
      "84 params - {'vect__ngram_range': (1, 1), 'vect__max_df': 1.0, 'vect__min_df': 4}; mean - 0.53; std - 0.01\n",
      "85 params - {'vect__ngram_range': (2, 2), 'vect__max_df': 1.0, 'vect__min_df': 4}; mean - 0.70; std - 0.02\n",
      "86 params - {'vect__ngram_range': (1, 2), 'vect__max_df': 1.0, 'vect__min_df': 4}; mean - 0.52; std - 0.01\n",
      "87 params - {'vect__ngram_range': (1, 3), 'vect__max_df': 1.0, 'vect__min_df': 4}; mean - 0.52; std - 0.00\n",
      "88 params - {'vect__ngram_range': (1, 4), 'vect__max_df': 1.0, 'vect__min_df': 4}; mean - 0.53; std - 0.01\n",
      "89 params - {'vect__ngram_range': (2, 4), 'vect__max_df': 1.0, 'vect__min_df': 4}; mean - 0.72; std - 0.01\n",
      "90 params - {'vect__ngram_range': (1, 1), 'vect__max_df': 1.0, 'vect__min_df': 8}; mean - 0.55; std - 0.04\n",
      "91 params - {'vect__ngram_range': (2, 2), 'vect__max_df': 1.0, 'vect__min_df': 8}; mean - 0.69; std - 0.01\n",
      "92 params - {'vect__ngram_range': (1, 2), 'vect__max_df': 1.0, 'vect__min_df': 8}; mean - 0.52; std - 0.02\n",
      "93 params - {'vect__ngram_range': (1, 3), 'vect__max_df': 1.0, 'vect__min_df': 8}; mean - 0.52; std - 0.01\n",
      "94 params - {'vect__ngram_range': (1, 4), 'vect__max_df': 1.0, 'vect__min_df': 8}; mean - 0.53; std - 0.01\n",
      "95 params - {'vect__ngram_range': (2, 4), 'vect__max_df': 1.0, 'vect__min_df': 8}; mean - 0.70; std - 0.03\n",
      "96 params - {'vect__ngram_range': (1, 1), 'vect__max_df': 1.0, 'vect__min_df': 16}; mean - 0.62; std - 0.06\n",
      "97 params - {'vect__ngram_range': (2, 2), 'vect__max_df': 1.0, 'vect__min_df': 16}; mean - 0.66; std - 0.03\n",
      "98 params - {'vect__ngram_range': (1, 2), 'vect__max_df': 1.0, 'vect__min_df': 16}; mean - 0.58; std - 0.04\n",
      "99 params - {'vect__ngram_range': (1, 3), 'vect__max_df': 1.0, 'vect__min_df': 16}; mean - 0.57; std - 0.05\n",
      "100 params - {'vect__ngram_range': (1, 4), 'vect__max_df': 1.0, 'vect__min_df': 16}; mean - 0.58; std - 0.04\n",
      "101 params - {'vect__ngram_range': (2, 4), 'vect__max_df': 1.0, 'vect__min_df': 16}; mean - 0.68; std - 0.02\n",
      "102 params - {'vect__ngram_range': (1, 1), 'vect__max_df': 1.0, 'vect__min_df': 32}; mean - 0.60; std - 0.03\n",
      "103 params - {'vect__ngram_range': (2, 2), 'vect__max_df': 1.0, 'vect__min_df': 32}; mean - 0.65; std - 0.02\n",
      "104 params - {'vect__ngram_range': (1, 2), 'vect__max_df': 1.0, 'vect__min_df': 32}; mean - 0.57; std - 0.02\n",
      "105 params - {'vect__ngram_range': (1, 3), 'vect__max_df': 1.0, 'vect__min_df': 32}; mean - 0.56; std - 0.02\n",
      "106 params - {'vect__ngram_range': (1, 4), 'vect__max_df': 1.0, 'vect__min_df': 32}; mean - 0.56; std - 0.02\n",
      "107 params - {'vect__ngram_range': (2, 4), 'vect__max_df': 1.0, 'vect__min_df': 32}; mean - 0.66; std - 0.01\n"
     ]
    }
   ],
   "source": [
    "n_candidates = len(grid_search_KNC.cv_results_['params'])\n",
    "for i in range(n_candidates):\n",
    "    print(i, 'params - %s; mean - %0.2f; std - %0.2f'\n",
    "          % (grid_search_KNC.cv_results_['params'][i],\n",
    "             grid_search_KNC.cv_results_['mean_test_score'][i],\n",
    "             grid_search_KNC.cv_results_['std_test_score'][i]))"
   ]
  },
  {
   "cell_type": "code",
   "execution_count": 15,
   "metadata": {
    "collapsed": false
   },
   "outputs": [
    {
     "name": "stdout",
     "output_type": "stream",
     "text": [
      "0.733022636485\n",
      "vect__max_df: 0.5\n",
      "vect__min_df: 2\n",
      "vect__ngram_range: (2, 4)\n",
      "             precision    recall  f1-score   support\n",
      "\n",
      "        neg       0.74      0.77      0.75       248\n",
      "        pos       0.76      0.74      0.75       253\n",
      "\n",
      "avg / total       0.75      0.75      0.75       501\n",
      "\n",
      "[[190  58]\n",
      " [ 66 187]]\n"
     ]
    }
   ],
   "source": [
    "print(grid_search_KNC.best_score_)\n",
    "for param_name in sorted(parameters.keys()):\n",
    "    print(\"%s: %r\" % (param_name, grid_search_KNC.best_params_[param_name]))   \n",
    "y_predicted = grid_search_KNC.predict(docs_test)    \n",
    "print(metrics.classification_report(y_test, y_predicted,\n",
    "                                         target_names=dataset.target_names))\n",
    "\n",
    "cm = metrics.confusion_matrix(y_test, y_predicted)\n",
    "print(cm)"
   ]
  },
  {
   "cell_type": "code",
   "execution_count": 18,
   "metadata": {
    "collapsed": true
   },
   "outputs": [],
   "source": [
    "parameters2 = {\n",
    "        'vect__max_df': [0.5, 0.75],\n",
    "        'vect__ngram_range': [(1, 1), (2, 2),(1,2),(1,3),(1,4),(2,4)],  # unigrams or bigrams\n",
    "        'vect__min_df': [1,2,4,8,16]\n",
    "        }"
   ]
  },
  {
   "cell_type": "code",
   "execution_count": 19,
   "metadata": {
    "collapsed": true
   },
   "outputs": [],
   "source": [
    "#The KNN classifier with n_neighbors set to be 5\n",
    "pipeline_KNC2 = Pipeline([\n",
    "        ('vect', TfidfVectorizer(decode_error='ignore')),\n",
    "        ('clf', KNC(n_neighbors = 5)),\n",
    "        ]) "
   ]
  },
  {
   "cell_type": "code",
   "execution_count": 20,
   "metadata": {
    "collapsed": false
   },
   "outputs": [
    {
     "data": {
      "text/plain": [
       "GridSearchCV(cv=None, error_score='raise',\n",
       "       estimator=Pipeline(steps=[('vect', TfidfVectorizer(analyzer='word', binary=False, decode_error='ignore',\n",
       "        dtype=<class 'numpy.int64'>, encoding='utf-8', input='content',\n",
       "        lowercase=True, max_df=1.0, max_features=None, min_df=1,\n",
       "        ngram_range=(1, 1), norm='l2', preprocessor=None, smooth_idf=True,\n",
       "  ...owski',\n",
       "           metric_params=None, n_jobs=1, n_neighbors=5, p=2,\n",
       "           weights='uniform'))]),\n",
       "       fit_params={}, iid=True, n_jobs=1,\n",
       "       param_grid={'vect__ngram_range': [(1, 1), (2, 2), (1, 2), (1, 3), (1, 4), (2, 4)], 'vect__max_df': [0.5, 0.75], 'vect__min_df': [1, 2, 4, 8, 16]},\n",
       "       pre_dispatch='2*n_jobs', refit=True, return_train_score=True,\n",
       "       scoring=None, verbose=0)"
      ]
     },
     "execution_count": 20,
     "metadata": {},
     "output_type": "execute_result"
    }
   ],
   "source": [
    "grid_search_KNC2 = GridSearchCV(pipeline_KNC2, parameters2, n_jobs=1)    \n",
    "grid_search_KNC2.fit(docs_train, y_train)\n"
   ]
  },
  {
   "cell_type": "code",
   "execution_count": 21,
   "metadata": {
    "collapsed": true
   },
   "outputs": [],
   "source": [
    "Frame_KNC2 = DataFrame(grid_search_KNC2.cv_results_)\n",
    "Frame_KNC2.to_csv('KNC_grid_search2')"
   ]
  },
  {
   "cell_type": "code",
   "execution_count": 23,
   "metadata": {
    "collapsed": false
   },
   "outputs": [
    {
     "name": "stdout",
     "output_type": "stream",
     "text": [
      "0 params - {'vect__ngram_range': (1, 1), 'vect__max_df': 0.5, 'vect__min_df': 1}; mean - 0.63; std - 0.01\n",
      "1 params - {'vect__ngram_range': (2, 2), 'vect__max_df': 0.5, 'vect__min_df': 1}; mean - 0.67; std - 0.00\n",
      "2 params - {'vect__ngram_range': (1, 2), 'vect__max_df': 0.5, 'vect__min_df': 1}; mean - 0.64; std - 0.00\n",
      "3 params - {'vect__ngram_range': (1, 3), 'vect__max_df': 0.5, 'vect__min_df': 1}; mean - 0.65; std - 0.01\n",
      "4 params - {'vect__ngram_range': (1, 4), 'vect__max_df': 0.5, 'vect__min_df': 1}; mean - 0.65; std - 0.00\n",
      "5 params - {'vect__ngram_range': (2, 4), 'vect__max_df': 0.5, 'vect__min_df': 1}; mean - 0.68; std - 0.01\n",
      "6 params - {'vect__ngram_range': (1, 1), 'vect__max_df': 0.5, 'vect__min_df': 2}; mean - 0.62; std - 0.01\n",
      "7 params - {'vect__ngram_range': (2, 2), 'vect__max_df': 0.5, 'vect__min_df': 2}; mean - 0.67; std - 0.01\n",
      "8 params - {'vect__ngram_range': (1, 2), 'vect__max_df': 0.5, 'vect__min_df': 2}; mean - 0.64; std - 0.00\n",
      "9 params - {'vect__ngram_range': (1, 3), 'vect__max_df': 0.5, 'vect__min_df': 2}; mean - 0.64; std - 0.01\n",
      "10 params - {'vect__ngram_range': (1, 4), 'vect__max_df': 0.5, 'vect__min_df': 2}; mean - 0.65; std - 0.02\n",
      "11 params - {'vect__ngram_range': (2, 4), 'vect__max_df': 0.5, 'vect__min_df': 2}; mean - 0.67; std - 0.01\n",
      "12 params - {'vect__ngram_range': (1, 1), 'vect__max_df': 0.5, 'vect__min_df': 4}; mean - 0.63; std - 0.02\n",
      "13 params - {'vect__ngram_range': (2, 2), 'vect__max_df': 0.5, 'vect__min_df': 4}; mean - 0.67; std - 0.01\n",
      "14 params - {'vect__ngram_range': (1, 2), 'vect__max_df': 0.5, 'vect__min_df': 4}; mean - 0.64; std - 0.01\n",
      "15 params - {'vect__ngram_range': (1, 3), 'vect__max_df': 0.5, 'vect__min_df': 4}; mean - 0.64; std - 0.01\n",
      "16 params - {'vect__ngram_range': (1, 4), 'vect__max_df': 0.5, 'vect__min_df': 4}; mean - 0.64; std - 0.01\n",
      "17 params - {'vect__ngram_range': (2, 4), 'vect__max_df': 0.5, 'vect__min_df': 4}; mean - 0.67; std - 0.02\n",
      "18 params - {'vect__ngram_range': (1, 1), 'vect__max_df': 0.5, 'vect__min_df': 8}; mean - 0.63; std - 0.01\n",
      "19 params - {'vect__ngram_range': (2, 2), 'vect__max_df': 0.5, 'vect__min_df': 8}; mean - 0.65; std - 0.02\n",
      "20 params - {'vect__ngram_range': (1, 2), 'vect__max_df': 0.5, 'vect__min_df': 8}; mean - 0.64; std - 0.01\n",
      "21 params - {'vect__ngram_range': (1, 3), 'vect__max_df': 0.5, 'vect__min_df': 8}; mean - 0.64; std - 0.00\n",
      "22 params - {'vect__ngram_range': (1, 4), 'vect__max_df': 0.5, 'vect__min_df': 8}; mean - 0.64; std - 0.00\n",
      "23 params - {'vect__ngram_range': (2, 4), 'vect__max_df': 0.5, 'vect__min_df': 8}; mean - 0.66; std - 0.01\n",
      "24 params - {'vect__ngram_range': (1, 1), 'vect__max_df': 0.5, 'vect__min_df': 16}; mean - 0.63; std - 0.02\n",
      "25 params - {'vect__ngram_range': (2, 2), 'vect__max_df': 0.5, 'vect__min_df': 16}; mean - 0.63; std - 0.02\n",
      "26 params - {'vect__ngram_range': (1, 2), 'vect__max_df': 0.5, 'vect__min_df': 16}; mean - 0.67; std - 0.02\n",
      "27 params - {'vect__ngram_range': (1, 3), 'vect__max_df': 0.5, 'vect__min_df': 16}; mean - 0.67; std - 0.01\n",
      "28 params - {'vect__ngram_range': (1, 4), 'vect__max_df': 0.5, 'vect__min_df': 16}; mean - 0.67; std - 0.01\n",
      "29 params - {'vect__ngram_range': (2, 4), 'vect__max_df': 0.5, 'vect__min_df': 16}; mean - 0.64; std - 0.01\n",
      "30 params - {'vect__ngram_range': (1, 1), 'vect__max_df': 0.75, 'vect__min_df': 1}; mean - 0.63; std - 0.01\n",
      "31 params - {'vect__ngram_range': (2, 2), 'vect__max_df': 0.75, 'vect__min_df': 1}; mean - 0.66; std - 0.01\n",
      "32 params - {'vect__ngram_range': (1, 2), 'vect__max_df': 0.75, 'vect__min_df': 1}; mean - 0.65; std - 0.01\n",
      "33 params - {'vect__ngram_range': (1, 3), 'vect__max_df': 0.75, 'vect__min_df': 1}; mean - 0.64; std - 0.01\n",
      "34 params - {'vect__ngram_range': (1, 4), 'vect__max_df': 0.75, 'vect__min_df': 1}; mean - 0.64; std - 0.01\n",
      "35 params - {'vect__ngram_range': (2, 4), 'vect__max_df': 0.75, 'vect__min_df': 1}; mean - 0.67; std - 0.01\n",
      "36 params - {'vect__ngram_range': (1, 1), 'vect__max_df': 0.75, 'vect__min_df': 2}; mean - 0.62; std - 0.01\n",
      "37 params - {'vect__ngram_range': (2, 2), 'vect__max_df': 0.75, 'vect__min_df': 2}; mean - 0.67; std - 0.02\n",
      "38 params - {'vect__ngram_range': (1, 2), 'vect__max_df': 0.75, 'vect__min_df': 2}; mean - 0.64; std - 0.01\n",
      "39 params - {'vect__ngram_range': (1, 3), 'vect__max_df': 0.75, 'vect__min_df': 2}; mean - 0.64; std - 0.01\n",
      "40 params - {'vect__ngram_range': (1, 4), 'vect__max_df': 0.75, 'vect__min_df': 2}; mean - 0.65; std - 0.01\n",
      "41 params - {'vect__ngram_range': (2, 4), 'vect__max_df': 0.75, 'vect__min_df': 2}; mean - 0.68; std - 0.01\n",
      "42 params - {'vect__ngram_range': (1, 1), 'vect__max_df': 0.75, 'vect__min_df': 4}; mean - 0.62; std - 0.01\n",
      "43 params - {'vect__ngram_range': (2, 2), 'vect__max_df': 0.75, 'vect__min_df': 4}; mean - 0.66; std - 0.01\n",
      "44 params - {'vect__ngram_range': (1, 2), 'vect__max_df': 0.75, 'vect__min_df': 4}; mean - 0.64; std - 0.01\n",
      "45 params - {'vect__ngram_range': (1, 3), 'vect__max_df': 0.75, 'vect__min_df': 4}; mean - 0.65; std - 0.00\n",
      "46 params - {'vect__ngram_range': (1, 4), 'vect__max_df': 0.75, 'vect__min_df': 4}; mean - 0.65; std - 0.01\n",
      "47 params - {'vect__ngram_range': (2, 4), 'vect__max_df': 0.75, 'vect__min_df': 4}; mean - 0.67; std - 0.02\n",
      "48 params - {'vect__ngram_range': (1, 1), 'vect__max_df': 0.75, 'vect__min_df': 8}; mean - 0.63; std - 0.02\n",
      "49 params - {'vect__ngram_range': (2, 2), 'vect__max_df': 0.75, 'vect__min_df': 8}; mean - 0.64; std - 0.02\n",
      "50 params - {'vect__ngram_range': (1, 2), 'vect__max_df': 0.75, 'vect__min_df': 8}; mean - 0.64; std - 0.00\n",
      "51 params - {'vect__ngram_range': (1, 3), 'vect__max_df': 0.75, 'vect__min_df': 8}; mean - 0.64; std - 0.01\n",
      "52 params - {'vect__ngram_range': (1, 4), 'vect__max_df': 0.75, 'vect__min_df': 8}; mean - 0.64; std - 0.00\n",
      "53 params - {'vect__ngram_range': (2, 4), 'vect__max_df': 0.75, 'vect__min_df': 8}; mean - 0.65; std - 0.01\n",
      "54 params - {'vect__ngram_range': (1, 1), 'vect__max_df': 0.75, 'vect__min_df': 16}; mean - 0.63; std - 0.01\n",
      "55 params - {'vect__ngram_range': (2, 2), 'vect__max_df': 0.75, 'vect__min_df': 16}; mean - 0.62; std - 0.01\n",
      "56 params - {'vect__ngram_range': (1, 2), 'vect__max_df': 0.75, 'vect__min_df': 16}; mean - 0.65; std - 0.02\n",
      "57 params - {'vect__ngram_range': (1, 3), 'vect__max_df': 0.75, 'vect__min_df': 16}; mean - 0.66; std - 0.02\n",
      "58 params - {'vect__ngram_range': (1, 4), 'vect__max_df': 0.75, 'vect__min_df': 16}; mean - 0.65; std - 0.02\n",
      "59 params - {'vect__ngram_range': (2, 4), 'vect__max_df': 0.75, 'vect__min_df': 16}; mean - 0.63; std - 0.01\n"
     ]
    }
   ],
   "source": [
    "n_candidates = len(grid_search_KNC2.cv_results_['params'])\n",
    "for i in range(n_candidates):\n",
    "    print(i, 'params - %s; mean - %0.2f; std - %0.2f'\n",
    "          % (grid_search_KNC2.cv_results_['params'][i],\n",
    "             grid_search_KNC2.cv_results_['mean_test_score'][i],\n",
    "             grid_search_KNC2.cv_results_['std_test_score'][i]))"
   ]
  },
  {
   "cell_type": "code",
   "execution_count": 24,
   "metadata": {
    "collapsed": false
   },
   "outputs": [
    {
     "name": "stdout",
     "output_type": "stream",
     "text": [
      "0.681757656458\n",
      "vect__max_df: 0.75\n",
      "vect__min_df: 2\n",
      "vect__ngram_range: (2, 4)\n",
      "             precision    recall  f1-score   support\n",
      "\n",
      "        neg       0.73      0.62      0.67       248\n",
      "        pos       0.67      0.77      0.72       253\n",
      "\n",
      "avg / total       0.70      0.70      0.69       501\n",
      "\n",
      "[[154  94]\n",
      " [ 58 195]]\n"
     ]
    }
   ],
   "source": [
    "print(grid_search_KNC2.best_score_)\n",
    "for param_name in sorted(parameters.keys()):\n",
    "    print(\"%s: %r\" % (param_name, grid_search_KNC2.best_params_[param_name]))   \n",
    "y_predicted = grid_search_KNC2.predict(docs_test)    \n",
    "print(metrics.classification_report(y_test, y_predicted,\n",
    "                                         target_names=dataset.target_names))\n",
    "\n",
    "cm = metrics.confusion_matrix(y_test, y_predicted)\n",
    "print(cm)"
   ]
  },
  {
   "cell_type": "code",
   "execution_count": 4,
   "metadata": {
    "collapsed": false
   },
   "outputs": [
    {
     "name": "stdout",
     "output_type": "stream",
     "text": [
      "(2002, 34146)\n",
      "(1501, 34146)\n"
     ]
    }
   ],
   "source": [
    "from sklearn.model_selection import train_test_split\n",
    "\n",
    "vectorizer = TfidfVectorizer(decode_error='ignore',max_df=0.75, min_df=8,ngram_range=(1, 3))\n",
    "vectors = vectorizer.fit_transform(dataset.data)\n",
    "print(vectors.shape)\n",
    "\n",
    "docs_train, docs_test, y_train, y_test = train_test_split(\n",
    "        vectors, dataset.target, test_size=0.25, random_state=None)\n",
    "\n",
    "print(docs_train.shape)"
   ]
  },
  {
   "cell_type": "code",
   "execution_count": 7,
   "metadata": {
    "collapsed": false
   },
   "outputs": [
    {
     "name": "stdout",
     "output_type": "stream",
     "text": [
      "             precision    recall  f1-score   support\n",
      "\n",
      "        neg       0.78      0.63      0.70       254\n",
      "        pos       0.68      0.82      0.74       245\n",
      "\n",
      "avg / total       0.73      0.72      0.72       499\n",
      "\n",
      "[[159  95]\n",
      " [ 44 201]]\n"
     ]
    }
   ],
   "source": [
    "#The GaussianNB classifier\n",
    "from sklearn.naive_bayes import GaussianNB\n",
    "from sklearn import metrics\n",
    "docs_test, \n",
    "\n",
    "\n",
    "gnb = GaussianNB()\n",
    "y_pred = gnb.fit(docs_train.toarray(), y_train).predict(docs_test.toarray())\n",
    "\n",
    "cm = metrics.confusion_matrix(y_test, y_pred)\n",
    "print(metrics.classification_report(y_test, y_pred,\n",
    "                                         target_names=dataset.target_names))\n",
    "print(cm)\n"
   ]
  },
  {
   "cell_type": "code",
   "execution_count": null,
   "metadata": {
    "collapsed": true
   },
   "outputs": [],
   "source": [
    "#Finding two examples with wrong prediction and save them.\n",
    "f = open(\"twoBadExamples.txt\", 'wb')\n",
    "flag = 0\n",
    "for i in range(100):\n",
    "    y_predicted = clf.predict(vectors_test[i])\n",
    "    if y_predicted != y_test[i]:\n",
    "        print(i)\n",
    "        print(\"actural y: %d\" %y_test[i])\n",
    "        print(\"predict y: %d\" %y_predicted)\n",
    "        print(docs_test[i])\n",
    "        f.write(docs_test[i])\n",
    "        flag += 1\n",
    "    if flag >= 2:\n",
    "        break\n",
    "f.close()\n"
   ]
  },
  {
   "cell_type": "markdown",
   "metadata": {},
   "source": [
    "* actural y: 1\n",
    "predict y: 0\n",
    "b' \" love is the devil \" is a challenging film , munundating its audience with wild imagery and a plot structure that disallows a plot , perhaps in an attempt to get us to know the artist's psyche rather than the artist's lifeline . watching it , i was enthralled with the look of the film , the way the director shot everything like it was looking through a bizarre , personalized filter . everything looks like it is not how life looks like but how painter francis bacon , the film's subject , looked at it personally . but while i was engrossed , i stumbled upon my thoughts halfway through the film , awakened from my trance by some inner distraction , and began to try and follow what's going on . exactly what was i looking at ? watching this film , i wasn't sure if it was the most insightful film i had ever seen or the most vacuous . directed ( and written ) by john maybury , \" love is the devil \" is stylish masterpiece for the senses . everything looks originally bizarre and perplexing . the camera angles are ferociously askew , and the close-ups are uncomfortably too close . the editing is deft , occasionally cutting away to something bizarre every couple seconds , but other times holding on a shot for so long that you wonder if the audience is not supposed to be voyeurs , or rather , intruders to bacon's world and psyche . as such , there is no real story . i've not heard much about francis bacon that i didn't read prior to the film , but what i learned was this : he was a painter in england who reached his peak during the 60s and 70s , drawing hideously bizarre drawings of carnage and the like . he was one of the first to really come out of the closet , and in interviews , he was notoriously drunk yet incredibly witty . as played by great shakesperean actor derek jacobi , he's like a foppish and self-absorbed cross between oscar wilde and nero . he lives life the way he wants to live it , to the disatisfaction of those who have the privelege of being really close to him . it's as if he were taking delight in the destruction of others and maybe himself ( \" champagne for my real friends , and pain for my sham friends , \" he says one night at the bar he frequents ) .  \" love is the devil \" chronicles the latter part of his life . bacon , well-known in his mid-life , awakens one night when he hears a man tumble through his ceiling window and land on the floor . he walks in , unafraid of what he finds , and discovers a thief , george dyer ( daniel craig ) . bacon gives him an offer : if he spends the night with him , he can take anything he wants in the morning . george agrees to this , and off to bed he goes , but ends up staying with him , for whatever reason . the film shows their lives together , at least in reference to one another . while creating bacon's world of friends ( like \" high art , \" this film minors in showing a certain group of people who radiate a connection that is not shown but is understood ) , the film shows the relationship of bacon and george as it remains rather stagnant . bacon is haughty and bizarre ; george is simple and doesn't understand bacon in the least , especially not his paintings . while watching this , that's basically all i thought was there . the film has a hypnotic feel , free of any restraints of form , and is shot so uniquely that i felt my attention was almost entirely on the way this film was made rather than what it is about . once the film is over , it's easier to piece it together . i kept on thinking about this film , wondering what the point to all of it was . someone doesn't merely make a film of all style and no substance at all , and if they do , they do it by accident , but still allow some substance to creep in . thinking about it , i remembered how the two fed off of eachother . i thought about how bacon was a masochist , in love with cruelty ( in one scene , he watches a boxing match with a orgiastic delight , and lets out a squeal of pleasure when blood from the one boxer's head splashes across his face ; in another scene , he masturbates to the odessa steps sequence of eisenstein's \" battleship potemkin \" ) , and perhaps he drove george too far in his delight for pain . he drove him over the edge , and for him that was love , even if it wasn't for george . i guess that explains the title . a bit . that's great and all , but i almost wish the film was devoid of any meaning . i wish it hadn't reduced itself to making some point about humanity , about how love is the most selfish thing in the world ( and it is , if you look at it a certain way ) . or maybe if it had avoided any meaning about humanity and merely drove itself into being the one film that was truly inside one man's twisted pysche . it's almost always best to obtain insights from looking at one man's uniqueness than it is forcing universality down an audience's throat . that way you don't reduce your film to something it's just not . i can't say i totally enjoyed \" love is the devil , \" though . despite all of the things i respect about this movie , it's still rather uncomfortable to sit through . even at a normally trite length of ninety minutes , the film still seems like an arduous task to sit through , especially after an exhausting first hour . though hypnotic , it still almost seems gimmicky and even redundant at times , as if it were taking advantage of one man's truly bizarre nature but not doing anything deeper with it . as such , i respect the way the film looks . it's beautiful and painstakingly crafted so that , along with \" what dreams may come \" and \" dark city , \" it's the year's most visually stunning film . in fact , if a better script had been forged , i'd almost compare it in visual power to a peter greenaway film , complete with similar haunting images that stick in the mind forever . and with a dymanite performance by derek jacobi , it has the comic and distanced tone that it needs . i just wish it had been more than mostly style and just a hair bit of substance . then i would have had something to hold me over even now . '\n",
    "* 3\t\t\n",
    "actural y: 0\n",
    "predict y: 1\n",
    "nathaniel r . atcheson a fellow critic once stated his belief that a reviewer should not speak of himself in his own review . i've attempted to obey this rule in recent months , but to do so would be impossible in this case . the fact is , nearly every person who goes to see the phantom menace brings baggage in with them . the original star wars trilogy means so much to so many people . for me , they calibrated my creativity as a child ; they are masterful , original works of art that mix moving stories with what were astonishing special effects at the time ( and they still hold up pretty darn well ) . i am too young to have seen star wars in the theater during its original release , but that doesn't make me any less dedicated to it . on the contrary , the star wars trilogy -- and the empire strikes back in particular -- are three items on a very short list of why i love movies . when i heard that george lucas would be making the first trilogy in the nine-film series , i got exited . when i first saw screenshots from the film , well over a year ago , i embarked on a year-long drool of anticipation . and when the first previews were released last thanksgiving , i was ready to see the film . but then there was the hype , the insane marketing campaign , and lucasfilm's secretive snobbery over the picture . in the last weeks before the picture opened , while multitudes of fans waited outside of theaters and stood in the boiling sun days in advance just to be the first ones in the theater , i was tired of hearing about it . i was tired of seeing cardboard cut-outs of the characters whenever i went to kfc or taco bell . i just wanted to see the movie . reader , do not misunderstand . i did not have an anti-hype reaction . the hype was unavoidable . i understand and accept the hype -- it's just what happens when the prequel to the most widely beloved films of all time get released . five minutes into the phantom menace , i knew there was a problem .  \" who are these jedi knights ? \" i asked .  \" why are they churning out stale dialogue with machine-gun rapidity ? \"  \" why aren't these characters being developed before their adventures ? \"  \" why is there a special effects shot in nearly every frame of the entire film ? \" these were just some of my questions early on . later , i asked , \" where's the magic of the first three films ? \" and \" why am i looking at my watch every fifteen minutes ? ' by the end of the film , i was tired , maddened , and depressed . george lucas has funneled his own wonderful movies into a pointless , mindless , summer blockbuster . the phantom menace is no star wars film . take away the title and the jedi talk and the force , and you're left with what is easily one of the most vacuous special effects movies of all time . it's an embarrassment . i looked desperately for a scene in which a character is explored , or a new theme is examined , or a special effects shot isn't used . there are a few of each , but they're all token attempts . the fact is , george lucas has created what is simultaneously an abysmally bad excuse for a movie and a pretty good showcase for digital effects . this is not what i wanted to see . i didn't want to leave the phantom menace with a headache and a bitter taste in my mouth , but i did . the story centers mostly around qui-gon jinn ( liam neeson , looking lost and confused ) and his apprentice , obi-wan kenobi ( ewan mcgregor , who scarcely has a line in the film ) and their attempts to liberate the people of the planet naboo . naboo is the victim of a bureaucratic war with the trade federation ; their contact on naboo is queen amidala ( natalie portman ) , the teenage ruler who truly cares for her people . after picking up jar jar binks ( a completely cgi character , voiced by ahmed best ) , they head to tatooine , where they meet young anakin skywalker ( jake lloyd ) and his mother ( pernilla august ) . qui-gon knows that the force is strong with young anakin , and so the jedi knights take the boy with them on their journeys . the bad guys are darth maul and darth sidious , neither of whom have enough lines to register as characters . there isn't anything particularly wrong with this story when looking at it in synopsis form . the way lucas has handled it , however , it unsatisfactory . first of all , we don't learn one single thing about qui-gon jinn . not one thing . what was his life like before this film ? well , i imagine he didn't have one . that's why he feels like a plot device . this probably explains why neeson looks so hopeless in the role , and why he's recently retired from film ( i don't blame him , honestly ) . obi-wan , a character i was really looking forward to learning more about , is even less interesting . mcgregor has just a few lines , so anyone hoping to see the engaging young actor in a great performance is urged to look elsewhere . since these two men are the focus of the phantom menace , lucas has served us a big emotional void as the centerpiece of his movie . things start to pick up when our characters reach tatooine ; young anakin is perhaps the only truly fleshed-out character in the film , and lloyd does a thoughtful job with the role . i was also hugely impressed with the sand speeder scene ; rarely is an action sequence so fast and so exciting . and when anakin says goodbye to his mother , i found it moving . also fairly good is portman , and she manages to give a little depth to a character where no depth has been written . jar jar binks is one of the most annoying characters i've ever had to endure , but he's more interesting than most of the humans . as soon as the relatively-brief segment on tatooine is over , it's back to the mind-numbing special effects and depthless action scenes . i've seen many movies that qualify as \" special effects extravaganzas , \" but the phantom menace is the first one i've seen that had me sick of the special effects fifteen minutes into the movie . the reason is obvious : george lucas has no restraint . i can't say that i didn't find the effects original , because i did -- the final battle between darth maul , obi-wan , and qui-gon is visually exceptional , as is most of the film . but i also found the effects deadening and tiresome . my breaking point was near the end of the picture , as anakin is getting questioned by yoda and the other jedi masters ; in the background , we see hundreds of digital spaceships flying around through a digital sky , and i wanted that to go away . can't we have one stinking scene that isn't bursting at the seems with a special effects shot ? i got so sick of looking at the cgi characters and spaceships and planets and backgrounds that i really just wanted to go outside and look at a physical landscape for a few hours . and then there's the question of magic . what was lost in the sixteen years between the phantom menace and return of the jedi ? i have a feeling that lucas was so focused on how his movie looked that he forgot entirely the way it should feel . john williams' familiar score is no help , nor is lucas' direction . i think it comes right down to characters : there are none here . i longed for the magnetic presence of han , luke , and leia , but i got no such thing . and what about the ridiculous expectations ? mine weren't that high ; i simply wanted a film that showed me the roots of the films that i grew up loving , a story that had a few characters and a few great special effects . instead , i got two hours and fifteen minutes of a lifeless and imaginative computer graphics show . i don't hate the phantom menace as much as i resent it : i'd like to forget that it exists , and yet i can't . it's here to stay . i can only hope that episodes ii and iii have something of substance in them , because if they don't , then lucas will have pulled off the impossible task of destroying his own indestructible series . '"
   ]
  },
  {
   "cell_type": "code",
   "execution_count": null,
   "metadata": {
    "collapsed": true
   },
   "outputs": [],
   "source": [
    "#Analysis of reasons why the prediction is wrong."
   ]
  },
  {
   "cell_type": "markdown",
   "metadata": {},
   "source": [
    "* Two Wrong Prediction Examples: We picked two examples from all the incorrect prediction results to analyze why the prediction is wrong. The first example is review for movie “Love is devil”. The actual sentiment of the review is positive, whereas the prediction estimates the review to be negative. By reading the review context carefully, we believed it is because the review used many sentimentally negative words to describe the abnormal personality of the main character in the movie. But overall the review appraises the movie to be well-done. The second example is review for movie “Star Wars the Phantom Menace”. Our prediction is positive but the actual sentiment is not. We believed in this case, the reason is that a large portion of the review is written about how good the previous Star Wars movies are. The algorithm could not tell whether these positive words is to this movie or previous movies."
   ]
  },
  {
   "cell_type": "markdown",
   "metadata": {},
   "source": [
    "*------------------------\n",
    "\n",
    "## Problem 4 (20 points): Open Ended Question:  Finding the right plot"
   ]
  },
  {
   "cell_type": "markdown",
   "metadata": {},
   "source": [
    "* Can you find a two dimensional plot in which the positive and negative reviews are separated?\n",
    "    * This problem is hard since you will likely have thousands of features for review, and you will need to transform these thousands of features into just two numbers (so that you can make a 2D plot).\n",
    "* Note, I was not able to find such a plot myself!\n",
    "    * So, this problem is about **trying** but perhaps **not necessarily succeeding**!\n",
    "* I tried two things, neither of which worked very well.\n",
    "    * I first plotted the length of the review versus the number of features we compute that are in that review\n",
    "    * Second I used Principle Component Analysis on a subset of the features.\n",
    "* Can you do better than I did!?"
   ]
  },
  {
   "cell_type": "code",
   "execution_count": 9,
   "metadata": {
    "collapsed": false
   },
   "outputs": [],
   "source": [
    "#Using PCA for dimensional reduction with all features in data\n",
    "from sklearn.decomposition import PCA\n",
    "pca = PCA(n_components=2)\n",
    "X_r = pca.fit(vectors.toarray()).transform(vectors.toarray())"
   ]
  },
  {
   "cell_type": "code",
   "execution_count": 10,
   "metadata": {
    "collapsed": false
   },
   "outputs": [
    {
     "name": "stdout",
     "output_type": "stream",
     "text": [
      "explained variance ratio (first two components): [ 0.00412175  0.00374217]\n"
     ]
    }
   ],
   "source": [
    "print('explained variance ratio (first two components): %s'\n",
    "      % str(pca.explained_variance_ratio_))"
   ]
  },
  {
   "cell_type": "code",
   "execution_count": 13,
   "metadata": {
    "collapsed": false,
    "scrolled": true
   },
   "outputs": [
    {
     "data": {
      "text/plain": [
       "<matplotlib.text.Text at 0x110faea58>"
      ]
     },
     "execution_count": 13,
     "metadata": {},
     "output_type": "execute_result"
    },
    {
     "data": {
      "image/png": "[encoded data removed]",
      "text/plain": [
       "<matplotlib.figure.Figure at 0x12650feb8>"
      ]
     },
     "metadata": {},
     "output_type": "display_data"
    }
   ],
   "source": [
    "%matplotlib inline\n",
    "plt.figure()\n",
    "colors = ['navy', 'turquoise']\n",
    "lw = 2\n",
    "target_names=dataset.target_names\n",
    "y = dataset.target\n",
    "\n",
    "for color, i, target_name in zip(colors, [0, 1], target_names):\n",
    "    plt.scatter(X_r[y == i, 0], X_r[y == i, 1], color=color, alpha=.8, lw=lw,\n",
    "                label=target_name)\n",
    "plt.legend(loc='best', shadow=False, scatterpoints=1)\n",
    "plt.title('PCA of Movie dataset')"
   ]
  },
  {
   "cell_type": "code",
   "execution_count": 6,
   "metadata": {
    "collapsed": false
   },
   "outputs": [
    {
     "name": "stdout",
     "output_type": "stream",
     "text": [
      "(2002, 34146)\n"
     ]
    },
    {
     "data": {
      "text/plain": [
       "(2002, 600)"
      ]
     },
     "execution_count": 6,
     "metadata": {},
     "output_type": "execute_result"
    }
   ],
   "source": [
    "# Using SelectKBest method to choose 600 best features\n",
    "from sklearn.feature_selection import SelectKBest\n",
    "from sklearn.feature_selection import f_classif\n",
    "from sklearn.feature_selection import mutual_info_classif\n",
    "\n",
    "X, y = vectors.toarray(), dataset.target\n",
    "print(X.shape)\n",
    "\n",
    "X_new = SelectKBest(f_classif, k=600).fit_transform(X, y)\n",
    "X_new.shape\n"
   ]
  },
  {
   "cell_type": "code",
   "execution_count": 15,
   "metadata": {
    "collapsed": false
   },
   "outputs": [
    {
     "data": {
      "text/plain": [
       "<matplotlib.text.Text at 0x110db1390>"
      ]
     },
     "execution_count": 15,
     "metadata": {},
     "output_type": "execute_result"
    },
    {
     "data": {
      "image/png": "[encoded data removed]",
      "text/plain": [
       "<matplotlib.figure.Figure at 0x1275d9b70>"
      ]
     },
     "metadata": {},
     "output_type": "display_data"
    }
   ],
   "source": [
    "#Using PCA for dimensional reduction with 600 best features selected by SelectKBest method\n",
    "%matplotlib inline\n",
    "pca = PCA(n_components=2)\n",
    "X_r3 = pca.fit(X_new).transform(X_new)\n",
    "\n",
    "plt.figure()\n",
    "colors = ['navy', 'turquoise']\n",
    "lw = 2\n",
    "\n",
    "for color, i, target_name in zip(colors, [0, 1], target_names):\n",
    "    plt.scatter(X_r3[y == i, 0], X_r3[y == i, 1], s=1, color=color, alpha=.8, lw=lw,\n",
    "                label=target_name)\n",
    "plt.legend(loc='best', shadow=False, scatterpoints=1)\n",
    "plt.title('PCA of Movie dataset with feature_selection (SelectKBest)')"
   ]
  },
  {
   "cell_type": "code",
   "execution_count": 3,
   "metadata": {
    "collapsed": false
   },
   "outputs": [
    {
     "name": "stdout",
     "output_type": "stream",
     "text": [
      "(2000, 3827)\n",
      "1000\n",
      "1000\n"
     ]
    },
    {
     "data": {
      "image/png": "[encoded data removed]",
      "text/plain": [
       "<matplotlib.figure.Figure at 0x1114913c8>"
      ]
     },
     "metadata": {},
     "output_type": "display_data"
    }
   ],
   "source": [
    "#Using k-Means for dimensional reduction with all features in data\n",
    "%matplotlib inline\n",
    "import numpy as np\n",
    "import matplotlib.pyplot as plt\n",
    "from sklearn.feature_extraction.text import TfidfVectorizer\n",
    "from sklearn.datasets import load_files\n",
    "from sklearn.cluster import KMeans\n",
    "\n",
    "\n",
    "categories = ['neg', 'pos']\n",
    "movie_reviews_data_folder = 'txt_sentoken'\n",
    "dataset = load_files(movie_reviews_data_folder, categories=categories, shuffle=True)\n",
    "target_names = dataset.target_names\n",
    "\n",
    "\n",
    "vectorizer = TfidfVectorizer(decode_error='ignore',max_df=0.5, min_df=50,ngram_range=(1, 2))\n",
    "vectors = vectorizer.fit_transform(dataset.data)\n",
    "print(vectors.shape)\n",
    "\n",
    "y = dataset.target\n",
    "\n",
    "clf = KMeans(n_clusters=2)\n",
    "clf.fit(vectors)\n",
    "centroids = clf.cluster_centers_\n",
    "centroid_0 = centroids[0]\n",
    "centroid_1 = centroids[1]\n",
    "\n",
    "neg = vectors[y==0].toarray()\n",
    "pos = vectors[y==1].toarray()\n",
    "print(len(neg))\n",
    "print(len(pos))\n",
    "\n",
    "neg_distance_c0 = []\n",
    "neg_distance_c1 = []\n",
    "pos_distance_c0 = []\n",
    "pos_distance_c1 = []\n",
    "\n",
    "for i in range(1000):\n",
    "\tneg_distance_c0.append(np.linalg.norm(neg[i]-centroid_0))\n",
    "\tneg_distance_c1.append(np.linalg.norm(neg[i]-centroid_1))\n",
    "\tpos_distance_c0.append(np.linalg.norm(pos[i]-centroid_0))\n",
    "\tpos_distance_c1.append(np.linalg.norm(pos[i]-centroid_1))\n",
    "\t\n",
    "plt.scatter(neg_distance_c0, neg_distance_c1, color='blue', s=5)\n",
    "plt.scatter(pos_distance_c0, pos_distance_c1, color='red', s=5)\n",
    "plt.show()"
   ]
  },
  {
   "cell_type": "code",
   "execution_count": 4,
   "metadata": {
    "collapsed": false
   },
   "outputs": [
    {
     "data": {
      "text/plain": [
       "(2000, 20)"
      ]
     },
     "execution_count": 4,
     "metadata": {},
     "output_type": "execute_result"
    }
   ],
   "source": [
    "# Using SelectKBest method to choose 20 best features\n",
    "from sklearn.feature_selection import SelectKBest\n",
    "from sklearn.feature_selection import chi2\n",
    "from sklearn.feature_selection import f_classif\n",
    "\n",
    "X, y = vectors.toarray(), dataset.target\n",
    "X.shape\n",
    "\n",
    "X_new = SelectKBest(f_classif, k=20).fit_transform(X, y)\n",
    "X_new.shape"
   ]
  },
  {
   "cell_type": "code",
   "execution_count": 5,
   "metadata": {
    "collapsed": false
   },
   "outputs": [
    {
     "data": {
      "image/png": "[encoded data removed]",
      "text/plain": [
       "<matplotlib.figure.Figure at 0x111de4278>"
      ]
     },
     "metadata": {},
     "output_type": "display_data"
    }
   ],
   "source": [
    "#Using k-Means for dimensional reduction with 20 best features selected by SelectKBest method\n",
    "%matplotlib inline\n",
    "from sklearn.cluster import KMeans\n",
    "import numpy as np\n",
    "clf = KMeans(n_clusters=2)\n",
    "clf.fit(X_new)\n",
    "centroids = clf.cluster_centers_\n",
    "centroid_0 = centroids[0]\n",
    "centroid_1 = centroids[1]\n",
    "\n",
    "neg = X_new[y==0]\n",
    "pos = X_new[y==1]\n",
    "\n",
    "neg_distance_c0 = []\n",
    "neg_distance_c1 = []\n",
    "pos_distance_c0 = []\n",
    "pos_distance_c1 = []\n",
    "\n",
    "for i in range(1000):\n",
    "\tneg_distance_c0.append(np.linalg.norm(neg[i]-centroid_0))\n",
    "\tneg_distance_c1.append(np.linalg.norm(neg[i]-centroid_1))\n",
    "\tpos_distance_c0.append(np.linalg.norm(pos[i]-centroid_0))\n",
    "\tpos_distance_c1.append(np.linalg.norm(pos[i]-centroid_1))\n",
    "\t\n",
    "plt.scatter(neg_distance_c0, neg_distance_c1, color='blue', s=5, alpha=0.6)\n",
    "plt.scatter(pos_distance_c0, pos_distance_c1, color='red', s=5, alpha=0.6)\n",
    "plt.show()"
   ]
  },
  {
   "cell_type": "code",
   "execution_count": 3,
   "metadata": {
    "collapsed": false
   },
   "outputs": [
    {
     "name": "stdout",
     "output_type": "stream",
     "text": [
      "[810, 20257]\n"
     ]
    },
    {
     "data": {
      "image/png": "[encoded data removed]",
      "text/plain": [
       "<matplotlib.figure.Figure at 0x102a13a90>"
      ]
     },
     "metadata": {},
     "output_type": "display_data"
    }
   ],
   "source": [
    "#trying to separate positive and negative reviews simply based on one representative positive word and one representative negative word\n",
    "%matplotlib inline\n",
    "import numpy as np\n",
    "import matplotlib.pyplot as plt\n",
    "from sklearn.datasets import load_files\n",
    "from sklearn import datasets\n",
    "from sklearn.feature_extraction.text import TfidfVectorizer\n",
    "\n",
    "categories = ['neg', 'pos']\n",
    "movie_reviews_data_folder = 'txt_sentoken'\n",
    "dataset = load_files(movie_reviews_data_folder, categories=categories, shuffle=True)\n",
    "target_names = dataset.target_names\n",
    "\n",
    "vectorizer = TfidfVectorizer(decode_error='ignore',max_df=0.70, min_df=10,ngram_range=(1, 3))\n",
    "vectors = vectorizer.fit_transform(dataset.data)\n",
    "\n",
    "feature_name_list = vectorizer.get_feature_names()\n",
    "\n",
    "interesting_feature_labels = []\n",
    "\n",
    "for i in range(len(feature_name_list)):\n",
    "\tif feature_name_list[i] == \"amazing\":\n",
    "\t\tinteresting_feature_labels.append(i)\n",
    "\n",
    "for i in range(len(feature_name_list)):\n",
    "\tif feature_name_list[i] == \"terrible\":\n",
    "\t\tinteresting_feature_labels.append(i)\n",
    "print(interesting_feature_labels)\n",
    "\n",
    "X = vectors\n",
    "y = dataset.target\n",
    "X_neg = vectors[y==0].toarray()\n",
    "X_pos = vectors[y==1].toarray()\n",
    "\n",
    "plt.scatter([X_neg[i][interesting_feature_labels[0]] for i in range(1000)], [X_neg[i][interesting_feature_labels[1]] for i in range(1000)], color='blue', alpha=0.5, s=5)\n",
    "plt.scatter([X_pos[i][interesting_feature_labels[0]] for i in range(1000)], [X_pos[i][interesting_feature_labels[1]] for i in range(1000)], color='red', alpha=0.5, s=5)\n",
    "plt.show()"
   ]
  },
  {
   "cell_type": "markdown",
   "metadata": {},
   "source": [
    "# Report: communicate the results (20 points)\n",
    "\n",
    "(1) (5 points) What data you collected?\n",
    "\n",
    "(2) (5 points) Why this topic is interesting or important to you? (Motivations)\n",
    "\n",
    "(3) (5 points) How did you analyse the data?\n",
    "\n",
    "(4) (5 points) What did you find in the data?\n",
    "(please include figures or tables in the report, but no source code)"
   ]
  },
  {
   "cell_type": "markdown",
   "metadata": {},
   "source": [
    "# Slides (for 10 minutes of presentation) (20 points)\n",
    "\n",
    "\n",
    "1. (5 points) Motivation about the data collection, why the topic is interesting to you. \n",
    "\n",
    "2. (10 points) Communicating Results (figure/table)\n",
    "\n",
    "3. (5 points) Story telling (How all the parts (data, analysis, result) fit together as a story?)"
   ]
  },
  {
   "cell_type": "markdown",
   "metadata": {},
   "source": [
    "*-----------------\n",
    "# Done\n",
    "\n",
    "All set! \n",
    "\n",
    "** What do you need to submit?**\n",
    "\n",
    "* **Notebook File**: Save this IPython notebook, and find the notebook file in your folder (for example, \"filename.ipynb\"). This is the file you need to submit. Please make sure all the plotted tables and figures are in the notebook. If you used \"ipython notebook --pylab=inline\" to open the notebook, all the figures and tables should have shown up in the notebook.\n",
    "\n",
    "\n",
    "* **PPT Slides**: please prepare PPT slides (for 10 minutes' talk) to present about the case study . We will ask two teams which are randomly selected to present their case studies in class for this case study. \n",
    "\n",
    "* ** Report**: please prepare a report (less than 10 pages) to report what you found in the data.\n",
    "    * What is the relationship between this topic and Business Intelligence?\n",
    "    * How did you analyse the data?\n",
    "    * What did you find in the data? \n",
    "    * What conjectures did you make and how did you support or disprove them using data?\n",
    "    * Did you find anything suprising in the data?\n",
    "    * What business decision do you think this data could help answer?  Why?\n",
    "\n",
    "   (please include figures or tables in the report, **but no source code**)\n",
    "\n",
    "*Please compress all the files into a single zipped file.*\n",
    "\n",
    "\n",
    "** How to submit: **\n",
    "\n",
    "        Send an email to rcpaffenroth@wpi.edu and wliu3@wpi.edu with the subject: \"[DS501] Case study 3-TEAM NUMBER ???\"."
   ]
  }
 ],
 "metadata": {
  "anaconda-cloud": {},
  "kernelspec": {
   "display_name": "Python [Root]",
   "language": "python",
   "name": "Python [Root]"
  },
  "language_info": {
   "codemirror_mode": {
    "name": "ipython",
    "version": 3
   },
   "file_extension": ".py",
   "mimetype": "text/x-python",
   "name": "python",
   "nbconvert_exporter": "python",
   "pygments_lexer": "ipython3",
   "version": "3.5.2"
  }
 },
 "nbformat": 4,
 "nbformat_minor": 0
}
