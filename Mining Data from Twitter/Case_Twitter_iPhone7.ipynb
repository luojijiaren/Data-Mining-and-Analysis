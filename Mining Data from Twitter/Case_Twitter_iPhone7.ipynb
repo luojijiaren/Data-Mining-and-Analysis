{
 "cells": [
  {
   "cell_type": "markdown",
   "metadata": {},
   "source": [
    "# Case Study 1 : Collecting Data from Twitter\n",
    "\n",
    "Due Date: September 22, **before the beginning of class at 6:00pm**\n",
    "\n",
    "* ------------"
   ]
  },
  {
   "cell_type": "markdown",
   "metadata": {},
   "source": [
    "<img src=\"https://upload.wikimedia.org/wikipedia/en/thumb/9/9f/Twitter_bird_logo_2012.svg/220px-Twitter_bird_logo_2012.svg.png\">"
   ]
  },
  {
   "cell_type": "markdown",
   "metadata": {},
   "source": [
    "**TEAM Members:** Please EDIT this cell and add the names of all the team members in your team\n",
    "\n",
    "    Hang Ding\n",
    "    Fangling Zhang\n",
    "    Qingquan Zhao\n",
    "    Yihao Zhou\n",
    "    Tongge Zhu\n",
    "   "
   ]
  },
  {
   "cell_type": "markdown",
   "metadata": {},
   "source": [
    "**Required Readings:** \n",
    "* Chapter 1 and Chapter 9 of the book [Mining the Social Web](http://www.learndatasci.com/wp-content/uploads/2015/08/Mining-the-Social-Web-2nd-Edition.pdf) \n",
    "* The codes for [Chapter 1](http://bit.ly/1qCtMrr) and [Chapter 9](http://bit.ly/1u7eP33)\n",
    "\n",
    "\n",
    "** NOTE **\n",
    "* Please don't forget to save the notebook frequently when working in IPython Notebook, otherwise the changes you made can be lost.\n",
    "\n",
    "*----------------------"
   ]
  },
  {
   "cell_type": "markdown",
   "metadata": {},
   "source": [
    "# Problem 1: Sampling Twitter Data with Streaming API about a certain topic"
   ]
  },
  {
   "cell_type": "markdown",
   "metadata": {},
   "source": [
    "* Select a topic that you are interested in：The topice we selected is \" iPhone 7 \"\n",
    "* Use Twitter Streaming API to sample a collection of tweets about this topic in real time. (It would be recommended that the number of tweets should be larger than 200, but smaller than 1 million.\n",
    "* Store the tweets you downloaded into a local file (txt file or json file) "
   ]
  },
  {
   "cell_type": "code",
   "execution_count": 5,
   "metadata": {
    "collapsed": false
   },
   "outputs": [
    {
     "name": "stdout",
     "output_type": "stream",
     "text": [
      "<twitter.api.Twitter object at 0x1065bfe80>\n"
     ]
    }
   ],
   "source": [
    "import twitter\n",
    "import sys\n",
    "import io\n",
    "import json\n",
    "import os\n",
    "\n",
    "def oauth_login():\n",
    " \n",
    "    CONSUMER_KEY = 'q1dGO5xX1BmI5HoJvACvKszmP'\n",
    "    CONSUMER_SECRET ='3sEYfZqNNHSemuRHs7AzebhUDI793vU6c2UT6SiTUZS5gczAgB'\n",
    "    OAUTH_TOKEN = '211554454-s9NidIvGRF7q28YC1dM53lio831g3InJtdkYsAUb'\n",
    "    OAUTH_TOKEN_SECRET = 'VnqBUvPcxcPbIAVaqSsTLMTeRdyrO31jxQZrYXLbsHu9l'\n",
    "    \n",
    "    auth = twitter.oauth.OAuth(OAUTH_TOKEN, OAUTH_TOKEN_SECRET,\n",
    "                               CONSUMER_KEY, CONSUMER_SECRET)\n",
    "    \n",
    "    twitter_api = twitter.Twitter(auth=auth)\n",
    "    return twitter_api\n",
    "\n",
    "twitter_api = oauth_login()\n",
    "\n",
    "#Just for check if the token works\n",
    "print(twitter_api)\n"
   ]
  },
  {
   "cell_type": "markdown",
   "metadata": {},
   "source": [
    "### Report some statistics about the tweets you collected \n",
    "\n",
    "* The topic of interest: < iPhone 7>\n",
    "\n",
    "\n",
    "* The total number of tweets collected:  < INSERT THE NUMBER HERE>"
   ]
  },
  {
   "cell_type": "code",
   "execution_count": 3,
   "metadata": {
    "collapsed": false
   },
   "outputs": [
    {
     "ename": "KeyboardInterrupt",
     "evalue": "",
     "output_type": "error",
     "traceback": [
      "\u001b[0;31m---------------------------------------------------------------------------\u001b[0m",
      "\u001b[0;31mKeyboardInterrupt\u001b[0m                         Traceback (most recent call last)",
      "\u001b[0;32m<ipython-input-3-f8be3f4e16f7>\u001b[0m in \u001b[0;36m<module>\u001b[0;34m()\u001b[0m\n\u001b[1;32m     19\u001b[0m \u001b[0;34m\u001b[0m\u001b[0m\n\u001b[1;32m     20\u001b[0m \u001b[0;31m# Below codes are saving stream data to a file\u001b[0m\u001b[0;34m\u001b[0m\u001b[0;34m\u001b[0m\u001b[0m\n\u001b[0;32m---> 21\u001b[0;31m \u001b[0;32mfor\u001b[0m \u001b[0mtweet\u001b[0m \u001b[0;32min\u001b[0m \u001b[0mstream\u001b[0m\u001b[0;34m:\u001b[0m\u001b[0;34m\u001b[0m\u001b[0m\n\u001b[0m\u001b[1;32m     22\u001b[0m     \u001b[0msave_json\u001b[0m\u001b[0;34m(\u001b[0m\u001b[0;34m'09_16_tzhu_1245-1255.json'\u001b[0m\u001b[0;34m,\u001b[0m \u001b[0mtweet\u001b[0m\u001b[0;34m)\u001b[0m\u001b[0;34m\u001b[0m\u001b[0m\n",
      "\u001b[0;32m/Users/tonggezhu/anaconda/lib/python3.5/site-packages/twitter/stream.py\u001b[0m in \u001b[0;36m__iter__\u001b[0;34m(self)\u001b[0m\n\u001b[1;32m    174\u001b[0m         \u001b[0;32mwhile\u001b[0m \u001b[0;32mTrue\u001b[0m\u001b[0;34m:\u001b[0m\u001b[0;34m\u001b[0m\u001b[0m\n\u001b[1;32m    175\u001b[0m             \u001b[0;31m# Decode all the things:\u001b[0m\u001b[0;34m\u001b[0m\u001b[0;34m\u001b[0m\u001b[0m\n\u001b[0;32m--> 176\u001b[0;31m             \u001b[0mdata\u001b[0m \u001b[0;34m=\u001b[0m \u001b[0msock_reader\u001b[0m\u001b[0;34m.\u001b[0m\u001b[0mread\u001b[0m\u001b[0;34m(\u001b[0m\u001b[0;34m)\u001b[0m\u001b[0;34m\u001b[0m\u001b[0m\n\u001b[0m\u001b[1;32m    177\u001b[0m             \u001b[0mdechunked_data\u001b[0m\u001b[0;34m,\u001b[0m \u001b[0mend_of_stream\u001b[0m\u001b[0;34m,\u001b[0m \u001b[0mdecode_error\u001b[0m \u001b[0;34m=\u001b[0m \u001b[0mchunk_decoder\u001b[0m\u001b[0;34m.\u001b[0m\u001b[0mdecode\u001b[0m\u001b[0;34m(\u001b[0m\u001b[0mdata\u001b[0m\u001b[0;34m)\u001b[0m\u001b[0;34m\u001b[0m\u001b[0m\n\u001b[1;32m    178\u001b[0m             \u001b[0municode_data\u001b[0m \u001b[0;34m=\u001b[0m \u001b[0mutf8_decoder\u001b[0m\u001b[0;34m.\u001b[0m\u001b[0mdecode\u001b[0m\u001b[0;34m(\u001b[0m\u001b[0mdechunked_data\u001b[0m\u001b[0;34m)\u001b[0m\u001b[0;34m\u001b[0m\u001b[0m\n",
      "\u001b[0;32m/Users/tonggezhu/anaconda/lib/python3.5/site-packages/twitter/stream.py\u001b[0m in \u001b[0;36mread\u001b[0;34m(self)\u001b[0m\n\u001b[1;32m    131\u001b[0m     \u001b[0;32mdef\u001b[0m \u001b[0mread\u001b[0m\u001b[0;34m(\u001b[0m\u001b[0mself\u001b[0m\u001b[0;34m)\u001b[0m\u001b[0;34m:\u001b[0m\u001b[0;34m\u001b[0m\u001b[0m\n\u001b[1;32m    132\u001b[0m         \u001b[0;32mtry\u001b[0m\u001b[0;34m:\u001b[0m\u001b[0;34m\u001b[0m\u001b[0m\n\u001b[0;32m--> 133\u001b[0;31m             \u001b[0mready_to_read\u001b[0m \u001b[0;34m=\u001b[0m \u001b[0mselect\u001b[0m\u001b[0;34m.\u001b[0m\u001b[0mselect\u001b[0m\u001b[0;34m(\u001b[0m\u001b[0;34m[\u001b[0m\u001b[0mself\u001b[0m\u001b[0;34m.\u001b[0m\u001b[0msock\u001b[0m\u001b[0;34m]\u001b[0m\u001b[0;34m,\u001b[0m \u001b[0;34m[\u001b[0m\u001b[0;34m]\u001b[0m\u001b[0;34m,\u001b[0m \u001b[0;34m[\u001b[0m\u001b[0;34m]\u001b[0m\u001b[0;34m,\u001b[0m \u001b[0mself\u001b[0m\u001b[0;34m.\u001b[0m\u001b[0msock_timeout\u001b[0m\u001b[0;34m)\u001b[0m\u001b[0;34m[\u001b[0m\u001b[0;36m0\u001b[0m\u001b[0;34m]\u001b[0m\u001b[0;34m\u001b[0m\u001b[0m\n\u001b[0m\u001b[1;32m    134\u001b[0m             \u001b[0;32mif\u001b[0m \u001b[0mready_to_read\u001b[0m\u001b[0;34m:\u001b[0m\u001b[0;34m\u001b[0m\u001b[0m\n\u001b[1;32m    135\u001b[0m                 \u001b[0;32mreturn\u001b[0m \u001b[0mself\u001b[0m\u001b[0;34m.\u001b[0m\u001b[0msock\u001b[0m\u001b[0;34m.\u001b[0m\u001b[0mread\u001b[0m\u001b[0;34m(\u001b[0m\u001b[0;34m)\u001b[0m\u001b[0;34m\u001b[0m\u001b[0m\n",
      "\u001b[0;31mKeyboardInterrupt\u001b[0m: "
     ]
    }
   ],
   "source": [
    "# collect streaming data from twitter\n",
    "\n",
    "q = 'iphone 7, Iphone7, iphone7, Iphone 7' \n",
    "\n",
    "twitter_api = oauth_login()\n",
    "\n",
    "twitter_stream = twitter.TwitterStream(auth=twitter_api.auth)\n",
    "\n",
    "stream = twitter_stream.statuses.filter(track=q)\n",
    "\n",
    "def save_json(filename, data):\n",
    "    with io.open(filename,'a+', encoding='utf-8') as f:\n",
    "        f.write(json.dumps(data, indent=3))\n",
    "        f.write(',\\n')\n",
    "\n",
    "        \n",
    "# Below codes are saving stream data to a file\n",
    "#‘文件名格式’=‘mm_dd_name_begin time_ending time'\n",
    "for tweet in stream:\n",
    "    save_json('09_16_tzhu_1245-1255.json', tweet)\n",
    "    \n",
    "# The interruption is intentional, we don't want to reach the API limited\n"
   ]
  },
  {
   "cell_type": "code",
   "execution_count": 1,
   "metadata": {
    "collapsed": false
   },
   "outputs": [
    {
     "name": "stdout",
     "output_type": "stream",
     "text": [
      "# of Tweets between Sept 16, 09:00-10:00 EST:  24000\n",
      "# of Tweets between Sept 16, 10:00-11:00 EST:  21135\n",
      "# of Tweets between Sept 16, 11:00-12:00 EST:  22301\n",
      "Total # of Tweets:  67436\n"
     ]
    }
   ],
   "source": [
    "#check the # of tweets\n",
    "\n",
    "import twitter, json\n",
    "def load_data(filename):\n",
    "    f = open(filename,'r', encoding='utf-8').read()\n",
    "    content_json = json.loads(f)\n",
    "    return content_json\n",
    "\n",
    "#Data collection Between Sept 16, 09:00-10:00 EST\n",
    "content_json09_10 = load_data('combined_9_10_0916.json')\n",
    "\n",
    "#Data collection Between Sept 16, 10:00-11:00 EST\n",
    "content_json10_11 = load_data('combined_10_11_0916.json')\n",
    "\n",
    "#Data collection Between Sept 16, 11:00-12:00 EST\n",
    "content_json12_13 = load_data('combined_11_12_0916.json')\n",
    "\n",
    "\n",
    "content_json_all = load_data('combined_all.json')\n",
    "\n",
    "\n",
    "print(\"# of Tweets between Sept 16, 09:00-10:00 EST: \", len(content_json09_10))\n",
    "print(\"# of Tweets between Sept 16, 10:00-11:00 EST: \", len(content_json10_11))\n",
    "print(\"# of Tweets between Sept 16, 11:00-12:00 EST: \", len(content_json12_13))\n",
    "print(\"Total # of Tweets: \" ,len(content_json_all))"
   ]
  },
  {
   "cell_type": "markdown",
   "metadata": {},
   "source": [
    "*-----------------------"
   ]
  },
  {
   "cell_type": "markdown",
   "metadata": {},
   "source": [
    "# Problem 2: Analyzing Tweets and Tweet Entities with Frequency Analysis\n",
    "\n",
    "**1. Word Count:** \n",
    "* Use the tweets you collected in Problem 1, and compute the frequencies of the words being used in these tweets. \n",
    "* Plot a table of the top 30 words with their counts"
   ]
  },
  {
   "cell_type": "code",
   "execution_count": 5,
   "metadata": {
    "collapsed": false
   },
   "outputs": [
    {
     "name": "stdout",
     "output_type": "stream",
     "text": [
      "+-----------+-----------+\n",
      "|   Words   | Frequency |\n",
      "+-----------+-----------+\n",
      "|     7     |   22146   |\n",
      "|     RT    |   12890   |\n",
      "|   Apple   |    4431   |\n",
      "|    Plus   |    3362   |\n",
      "|    get    |    3320   |\n",
      "|    new    |    3094   |\n",
      "|    n't    |    2325   |\n",
      "|   today   |    1298   |\n",
      "|    got    |    1293   |\n",
      "|     go    |    1217   |\n",
      "|   phone   |    1164   |\n",
      "| headphone |    1121   |\n",
      "|    amp    |    1119   |\n",
      "|    jack   |    1089   |\n",
      "|    come   |    1080   |\n",
      "|    one    |    1015   |\n",
      "|    case   |    914    |\n",
      "| BlakeGray |    882    |\n",
      "|  already  |    878    |\n",
      "|    bed    |    875    |\n",
      "|     'm    |    854    |\n",
      "|    day    |    822    |\n",
      "|    via    |    813    |\n",
      "|    buy    |    808    |\n",
      "|     us    |    801    |\n",
      "|     6s    |    777    |\n",
      "|   Black   |    776    |\n",
      "|    rage   |    768    |\n",
      "|    New    |    748    |\n",
      "|   people  |    736    |\n",
      "+-----------+-----------+\n"
     ]
    }
   ],
   "source": [
    "#----------------------------------------------\n",
    "from nltk.tokenize import word_tokenize\n",
    "from nltk.corpus import stopwords\n",
    "import json\n",
    "from collections import OrderedDict\n",
    "import string\n",
    "from prettytable import PrettyTable\n",
    "\n",
    "def unwanted():\n",
    "    unwanted = list(stopwords.words('english'))\n",
    "    unwanted += list(string.punctuation)\n",
    "    unwanted += ['https', 'http', '...', '…',\"''\",'``','iphone', 'Iphone', 'iphone7', 'Iphone7',\"'s\"]\n",
    "    return unwanted \n",
    "\n",
    "def frequent_words(data, n):\n",
    "    unwanted_words = unwanted()\n",
    "    counts = dict() # {\"word1\": 253, \"word2\": 13}\n",
    "    for tweet in data:\n",
    "        if \"text\" in tweet.keys() and tweet[\"lang\"]==\"en\":\n",
    "            sentence = tweet[\"text\"]\n",
    "            words = word_tokenize(sentence)\n",
    "            for word in words:\n",
    "                if word.lower() not in unwanted_words:\n",
    "                    counts[word] = counts.get(word, 0)+1\n",
    "    sorted_counts = sorted(counts.items(), key=lambda t: t[1], reverse = True)\n",
    "    with open(\"frequency.txt\", 'w', encoding='utf-8') as f:\n",
    "        f.write(str(sorted_counts[:n]))\n",
    "    return sorted_counts[:n]\n",
    "\n",
    "\n",
    "tweets_all = load_data(\"combined_all.json\")\n",
    "\n",
    "frequent_words_tweets_all = frequent_words(tweets_all, 30)\n",
    "\n",
    "pt_word_frequency = PrettyTable(field_names = ['Words', 'Frequency'])\n",
    "[pt_word_frequency.add_row(row) for row in frequent_words_tweets_all]\n",
    "\n",
    "print(pt_word_frequency)\n",
    "\n"
   ]
  },
  {
   "cell_type": "markdown",
   "metadata": {},
   "source": [
    "**2. Find the most popular tweets in your collection of tweets**\n",
    "\n",
    "Please plot a table of the top 10 tweets that are the most popular among your collection, i.e., the tweets with the largest number of retweet counts.\n"
   ]
  },
  {
   "cell_type": "code",
   "execution_count": 5,
   "metadata": {
    "collapsed": false
   },
   "outputs": [
    {
     "name": "stdout",
     "output_type": "stream",
     "text": [
      "retweeted_number:  58118 \t tweet_text:  RT @youtoofunny: iPhone 7 😱 \n",
      "\n",
      "http://t.co/LMB7UrhLHx\n",
      "retweeted_number:  39074 \t tweet_text:  RT @Iemonade: apple: the iphone 7 is fireproof, waterproof &amp; flies\n",
      "\n",
      "us: but better chargers &amp; group facetime?\n",
      "\n",
      "apple: https://t.co/qGoMRCGO…\n",
      "retweeted_number:  16874 \t tweet_text:  RT @ShaydaWayda: $170 for iPhone 7 earphones?them hoes better be good,everytime I hear a gunshot in a song I better be ducking and checking…\n",
      "retweeted_number:  9247 \t tweet_text:  RT @pranavsapra: iPhone 6S - Great camera\n",
      "iPhone 7 - 2 Cameras\n",
      "iPhone 7S - 2 Great cameras\n",
      "iPhone 8 - 3 Cameras\n",
      "iPhone 8S - 3 Great cameras…\n",
      "retweeted_number:  8534 \t tweet_text:  RT @TooDopeWithHope: Won't believe it till them rich white people on YouTube buy one and do a test https://t.co/GLwvKLfSfN\n",
      "retweeted_number:  8252 \t tweet_text:  RT @brgEXTRAsjk: iphone 7 official video by apple https://t.co/3dnOufm2pH\n",
      "retweeted_number:  7899 \t tweet_text:  RT @BillRatchet: if the iPhone 7 doesn't come with U2's album I will Not be purchasing it\n",
      "retweeted_number:  7344 \t tweet_text:  RT @iTwitlawak: You want iPhone 7 \n",
      "\n",
      "I want 7 days of holiday every week \n",
      "\n",
      "We are not the same\n",
      "retweeted_number:  7300 \t tweet_text:  RT @dugaylance: iPhone 7: No headphone jack.\n",
      "iPhone 8: No home button.\n",
      "iPhone 9: Wireless charging, no charging port.\n",
      "\n",
      "Soon the iPhone will…\n",
      "retweeted_number:  7148 \t tweet_text:  RT @paleyfatso: -Hi can i have iphone 7 plus 256 GB?\n",
      "-Sure sir, card or cash?\n",
      "-Kidney\n",
      "retweeted_number:  6872 \t tweet_text:  RT @nyczach: THEY MADE THE IPHONE 7 SO SMALL WTF https://t.co/6fzzUxzBdN\n",
      "retweeted_number:  6523 \t tweet_text:  RT @girlposts: the iPhone 7 starts at $649 and the 'airpod' headphones are sold for an additional $159 https://t.co/M5gOwDAWn7\n",
      "retweeted_number:  6264 \t tweet_text:  RT @Cowtuk: The iPhone 7 is water-resistant, has stereo sound and a better camera but it doesn't have that one feature that I want: afforda…\n"
     ]
    }
   ],
   "source": [
    "#Finding the Most Popular Tweets in a Collection of Tweets\n",
    "\n",
    "#     # You could also consider using the favorite_count parameter as part of \n",
    "#     # this  heuristic, possibly using it to provide an additional boost to \n",
    "#     # popular tweets in a ranked formulation\n",
    "        \n",
    "#     return [ status for status in statuses if status['retweet_count'] > retweet_threshold ] \n",
    "\n",
    "def popular_tweet(statuses, n):\n",
    "\tpopular = []\n",
    "\tfor tweet in statuses:\n",
    "\t\tif \"retweet_count\" in tweet.keys() and tweet[\"retweet_count\"] > n:\n",
    "\t\t\tpopular.append(tweet)\n",
    "\treturn popular\n",
    "\n",
    "def popular_retweeted_count(statuses, n):\n",
    "\tpopular = {}\n",
    "\tfor tweet in statuses:\n",
    "\t\tif \"retweeted_status\" in tweet.keys() and len(tweet[\"retweeted_status\"])!=0\tand tweet[\"lang\"] == \"en\" \\\n",
    "\t\t\tand \"retweet_count\" in tweet[\"retweeted_status\"].keys():\n",
    "\t\t\t\tif tweet[\"retweeted_status\"][\"retweet_count\"] > n and \"text\" in tweet.keys() and len(tweet[\"text\"])!=0:\n",
    "\t\t\t\t\tif tweet[\"text\"] not in popular.values(): \n",
    "\t\t\t\t\t\tpopular[tweet[\"retweeted_status\"][\"retweet_count\"]] = tweet[\"text\"]\n",
    "\tsorted_popular = sorted(popular.items(), key=lambda t: t[0], reverse = True)\n",
    "\treturn sorted_popular\n",
    "\n",
    "content = load_data('combined_all.json')\n",
    "\n",
    "# popular_tweet_list = popular_tweet(content, 1)\n",
    "popular_retweeted_count = popular_retweeted_count(content, 5000)\n",
    "for tweet in sorted(popular_retweeted_count, reverse=True):\n",
    "\tprint(\"retweeted_number: \", tweet[0], \"\\t\",\"tweet_text: \", tweet[1])\n"
   ]
  },
  {
   "cell_type": "markdown",
   "metadata": {},
   "source": [
    "**3. Find the most popular Tweet Entities in your collection of tweets**\n",
    "\n",
    "Please plot a table of the top 10 hashtags, top 10 user mentions that are the most popular in your collection of tweets."
   ]
  },
  {
   "cell_type": "code",
   "execution_count": 1,
   "metadata": {
    "collapsed": false
   },
   "outputs": [
    {
     "name": "stdout",
     "output_type": "stream",
     "text": [
      "+-------------------+------------+\n",
      "|  Top 10 hashtags  | hashtags # |\n",
      "+-------------------+------------+\n",
      "|      iPhone7      |    3655    |\n",
      "|     iPhone7TH     |    1309    |\n",
      "|    stockmarket    |    831     |\n",
      "|       APPLE       |    754     |\n",
      "| differentisbetter |    743     |\n",
      "|   Coffee4Hospice  |    743     |\n",
      "|       invest      |    743     |\n",
      "|       Coffee      |    743     |\n",
      "|    chartattack    |    743     |\n",
      "| Hawkers38HiPhone7 |    341     |\n",
      "+-------------------+------------+\n",
      "+----------------------+-----------------+\n",
      "| Top 10 user_mentions | user_mentions # |\n",
      "+----------------------+-----------------+\n",
      "|       imtaiki        |       1879      |\n",
      "|       khajochi       |       1280      |\n",
      "|     SqeezeReport     |       743       |\n",
      "|       YouTube        |       406       |\n",
      "|    chaochao_peep     |       397       |\n",
      "|    BrianRoemmele     |       388       |\n",
      "|      HawkersCo       |       289       |\n",
      "|      LUHANLAND       |       270       |\n",
      "|     ohmydeer0420     |       249       |\n",
      "|       Apple5x1       |       208       |\n",
      "+----------------------+-----------------+\n"
     ]
    }
   ],
   "source": [
    "import twitter\n",
    "import sys\n",
    "import io\n",
    "import json\n",
    "import os\n",
    "from prettytable import PrettyTable\n",
    "\n",
    "def load_data(filename):\n",
    "    f = open(filename,'r', encoding='utf-8').read()\n",
    "    content_json = json.loads(f)\n",
    "    return content_json\n",
    "\n",
    "def count_tweet_hashtags_user_mentions(statuses):\n",
    "\thashtags, user_mentions= {}, {}\n",
    "\tfor tweet in statuses:\n",
    "\t\tif \"entities\" in tweet.keys() and len(tweet[\"entities\"])!=0:\n",
    "\t\t\tif \"hashtags\" in tweet[\"entities\"] and len(tweet[\"entities\"][\"hashtags\"])!=0:\n",
    "\t\t\t\tfor hashtag in tweet[\"entities\"][\"hashtags\"]:\n",
    "\t\t\t\t\thashtags[hashtag[\"text\"]] = hashtags.get(hashtag[\"text\"], 0)+1\t\t\t\n",
    "\t\t\tif \"user_mentions\" in tweet[\"entities\"] and len(tweet[\"entities\"][\"user_mentions\"])!=0:\n",
    "\t\t\t\tfor user_mension in tweet[\"entities\"][\"user_mentions\"]:\n",
    "\t\t\t\t\tuser_mentions[user_mension['screen_name']] = user_mentions.get(user_mension['screen_name'],0)+1\n",
    "\ttop_10_hashtags = sorted(hashtags.items(), key=lambda t: t[1], reverse=True)[:10]\n",
    "\ttop_10_user_mentions = sorted(user_mentions.items(), key=lambda t: t[1], reverse=True)[:10]\n",
    "\treturn top_10_hashtags, top_10_user_mentions\n",
    "\n",
    "\n",
    "\n",
    "content = load_data('combined_9_10_0916.json')\n",
    "hashtags, user_mentions = count_tweet_hashtags_user_mentions(content)\n",
    "\n",
    "pt_hashtags = PrettyTable(field_names = ['Top 10 hashtags', 'hashtags #'])\n",
    "[ pt_hashtags.add_row(row) for row in hashtags]\n",
    "pt_user_mentions = PrettyTable(field_names = ['Top 10 user_mentions', 'user_mentions #'])\n",
    "[ pt_user_mentions.add_row(row) for row in user_mentions]\n",
    "\n",
    "print(pt_hashtags)\n",
    "print(pt_user_mentions)\n",
    "\n"
   ]
  },
  {
   "cell_type": "markdown",
   "metadata": {},
   "source": [
    "* ------------------------\n",
    "\n",
    "# Problem 3: Getting \"All\" friends and \"All\" followers of a popular user in twitter\n"
   ]
  },
  {
   "cell_type": "markdown",
   "metadata": {},
   "source": [
    "* choose a popular twitter user who has many followers, such as \"Iemonade\". \n",
    "* Get the list of all friends and all followers of the twitter user.\n",
    "* Plot 20 out of the followers, plot their ID numbers and screen names in a table.\n",
    "* Plot 20 out of the friends (if the user has more than 20 friends), plot their ID numbers and screen names in a table."
   ]
  },
  {
   "cell_type": "code",
   "execution_count": 6,
   "metadata": {
    "collapsed": false
   },
   "outputs": [
    {
     "name": "stdout",
     "output_type": "stream",
     "text": [
      "Fetched 239 total friends ids for Iemonade\n",
      "Fetched 5000 total followers ids for Iemonade\n",
      "Fetched 6093 total followers ids for Iemonade\n"
     ]
    }
   ],
   "source": [
    "import twitter\n",
    "import json\n",
    "import os\n",
    "from functools import partial\n",
    "from sys import maxsize\n",
    "import sys\n",
    "import time\n",
    "from urllib.error import URLError \n",
    "from http.client import BadStatusLine\n",
    "\n",
    "\n",
    "def make_twitter_request(twitter_api_func, max_errors=10, *args, **kw):\n",
    "\tdef handle_twitter_http_error(e, wait_period=2, sleep_when_rate_limited=True):\n",
    "\t\tif wait_period > 3600: # Seconds\n",
    "\t\t\tprint >> sys.stderr, 'Too many retries. Quitting.'\n",
    "\t\t\traise e\n",
    "\t\tif e.e.code == 401:\n",
    "\t\t\tprint >> sys.stderr, 'Encountered 401 Error (Not Authorized)'\n",
    "\t\t\treturn None\n",
    "\t\telif e.e.code == 404:\n",
    "\t\t\tprint >> sys.stderr, 'Encountered 404 Error (Not Found)'\n",
    "\t\t\treturn None\n",
    "\t\telif e.e.code == 429:\n",
    "\t\t\tprint >> sys.stderr, 'Encountered 429 Error (Rate Limit Exceeded)'\n",
    "\t\t\tif sleep_when_rate_limited:\n",
    "\t\t\t\tprint >> sys.stderr, \"Retrying in 15 minutes...ZzZ...\"\n",
    "\t\t\t\tsys.stderr.flush()\n",
    "\t\t\t\ttime.sleep(60*15 + 5)\n",
    "\t\t\t\tprint >> sys.stderr, '...ZzZ...Awake now and trying again.'\n",
    "\t\t\t\treturn 2\n",
    "\t\t\telse:\n",
    "\t\t\t\traise e # Caller must handle the rate limiting issue\n",
    "\t\telif e.e.code in (500, 502, 503, 504):\n",
    "\t\t\tprint >> sys.stderr, 'Encountered %i Error. Retrying in %i seconds' % \\\n",
    "\t\t\t\t\t(e.e.code, wait_period)\n",
    "\t\t\ttime.sleep(wait_period)\n",
    "\t\t\twait_period *= 1.5\n",
    "\t\t\treturn wait_period\n",
    "\t\telse:\n",
    "\t\t\traise e\n",
    "\twait_period = 2\n",
    "\terror_count = 0\n",
    "\twhile True:\n",
    "\t\ttry:\n",
    "\t\t\treturn twitter_api_func(*args, **kw)\n",
    "\t\texcept twitter.api.TwitterHTTPError as e:\n",
    "\t\t\terror_count = 0\n",
    "\t\t\twait_period = handle_twitter_http_error(e, wait_period)\n",
    "\t\t\tif wait_period is None:\n",
    "\t\t\t\treturn\n",
    "\t\texcept URLError as e:\n",
    "\t\t\terror_count += 1\n",
    "\t\t\tprint >> sys.stderr, \"URLError encountered. Continuing.\"\n",
    "\t\t\tif error_count > max_errors:\n",
    "\t\t\t\tprint >> sys.stderr, \"Too many consecutive errors...bailing out.\"\n",
    "\t\t\t\traise\n",
    "\t\texcept BadStatusLine as e:\n",
    "\t\t\terror_count += 1\n",
    "\t\t\tprint >> sys.stderr, \"BadStatusLine encountered. Continuing.\"\n",
    "\t\t\tif error_count > max_errors:\n",
    "\t\t\t\tprint >> sys.stderr, \"Too many consecutive errors...bailing out.\"\n",
    "\t\t\t\traise\n",
    "\n",
    "\n",
    "def get_friends_followers_ids(twitter_api, screen_name=None, user_id=None, friends_limit=maxsize, followers_limit=maxsize):\n",
    "\n",
    "\t# Must have either screen_name or user_id (logical xor)\n",
    "\tassert (screen_name != None) != (user_id != None), \\\n",
    "\t\"Must have screen_name or user_id, but not both\"\n",
    "\n",
    "\tget_friends_ids = partial(make_twitter_request, twitter_api.friends.ids, count=5000)\n",
    "\tget_followers_ids = partial(make_twitter_request, twitter_api.followers.ids, count=5000)\n",
    "\n",
    "\tfriends_ids, followers_ids = [], []\n",
    "\n",
    "\tfor twitter_api_func, limit, ids, label in [\n",
    "\t\t\t\t[get_friends_ids, friends_limit, friends_ids, \"friends\"], \n",
    "\t\t\t\t\t[get_followers_ids, followers_limit, followers_ids, \"followers\"]\n",
    "\t\t\t\t]:\n",
    "\t\t\n",
    "\t\tif limit == 0: continue\n",
    "\t\t\t\n",
    "\t\tcursor = -1\n",
    "\t\twhile cursor != 0:\n",
    "\t\t\t# Use make_twitter_request via the partially bound callable...\n",
    "\t\t\tif screen_name: \n",
    "\t\t\t\tresponse = twitter_api_func(screen_name=screen_name, cursor=cursor)\n",
    "\t\t\telse: # user_id\n",
    "\t\t\t\tresponse = twitter_api_func(user_id=user_id, cursor=cursor)\n",
    "\n",
    "\t\t\tif response is not None:\n",
    "\t\t\t\tids += response['ids']\n",
    "\t\t\t\tcursor = response['next_cursor']\n",
    "\n",
    "\t\t\tprint('Fetched {0} total {1} ids for {2}'.format(len(ids),label, (user_id or screen_name)))\n",
    "\n",
    "\n",
    "\treturn friends_ids[:friends_limit], followers_ids[:followers_limit]\n",
    "\n",
    "\n",
    "def save_json(fname, data):\n",
    "\ta = []\n",
    "\tif not os.path.isfile(fname):\n",
    "\t    a.append(data)\n",
    "\t    with open(fname, mode='w') as f:\n",
    "\t        f.write(json.dumps(a, indent=2))\n",
    "\telse:\n",
    "\t    with open(fname) as feedsjson:\n",
    "\t        feeds = json.load(feedsjson)\n",
    "\t    feeds.append(data)\n",
    "\t    with open(fname, mode='w') as f:\n",
    "\t        f.write(json.dumps(feeds, indent=2))\n",
    "\n",
    "\n",
    "twitter_api = oauth_login()\n",
    "\n",
    "friends_ids, followers_ids = get_friends_followers_ids(twitter_api, \n",
    "                                                       screen_name=\"Iemonade\", \n",
    "                                                       friends_limit=5, \n",
    "                                                       followers_limit=5)\n",
    "\n",
    "for friend_id in friends_ids:\n",
    "\tfriend_info = twitter_api.users.lookup(user_id = friend_id)\n",
    "\tsave_json(\"Iemonade_friends_info.json\", friend_info)\n",
    "\n",
    "\n",
    "for follower_id in followers_ids:\n",
    "\tfollower_info = twitter_api.users.lookup(user_id = follower_id)\n",
    "\tsave_json(\"Iemonade_followers_info.json\", follower_info)"
   ]
  },
  {
   "cell_type": "markdown",
   "metadata": {},
   "source": [
    "* Compute the mutual friends within the two groups, i.e., the users who are in both friend list and follower list, plot their ID numbers and screen names in a table"
   ]
  },
  {
   "cell_type": "code",
   "execution_count": 11,
   "metadata": {
    "collapsed": false
   },
   "outputs": [
    {
     "name": "stdout",
     "output_type": "stream",
     "text": [
      "183\n",
      "5\n",
      "+------------+-----------------+\n",
      "| friend_id  |   friend_name   |\n",
      "+------------+-----------------+\n",
      "| 286431876  |  TheBeyHiveTeam |\n",
      "| 3343590497 |  krystalschrist |\n",
      "| 1217760914 |   ManPhatties   |\n",
      "| 714807331  |  chrisdeleonnnn |\n",
      "| 908150251  |   britneyvibes  |\n",
      "|  52156378  |     seIenas     |\n",
      "| 701737694  |   popstylebey   |\n",
      "| 2492048386 |    alexernst7   |\n",
      "| 2783323392 |    kuntyewest   |\n",
      "| 803063040  |    BADDlEWILL   |\n",
      "| 2361817963 |  theIifeofpabIo |\n",
      "| 2562412738 |    hxrrygomez   |\n",
      "| 2727537393 |     fvckbas     |\n",
      "| 613756987  |     byetyler    |\n",
      "| 176895122  |    BeyonceWeb   |\n",
      "|  40542633  |     thugIyfe    |\n",
      "| 1033556185 |    fentycunti   |\n",
      "| 783598064  |   MADBLACKTHOT  |\n",
      "| 561837494  |   SHARONShaie   |\n",
      "| 3032103930 |    beyupdate    |\n",
      "| 3241679456 |    fentydeco    |\n",
      "| 2735447973 |    coralesque   |\n",
      "| 2663611406 |    digitaIdad   |\n",
      "| 169536317  |     dvrrxll     |\n",
      "| 418363187  |     maycesus    |\n",
      "|  56783491  |    nickjonas    |\n",
      "| 2732074569 | sophiaaaamariee |\n",
      "| 2474565805 |    sameimpala   |\n",
      "| 2343828372 |   perryxfenty   |\n",
      "| 4889412185 |    ericam_22    |\n",
      "+------------+-----------------+\n",
      "+--------------------+---------------+\n",
      "|    follower_id     | follower_name |\n",
      "+--------------------+---------------+\n",
      "|     3588869487     |  standardbey  |\n",
      "|     2851378404     | Louis_Boo2468 |\n",
      "| 755584516446642176 |  sluttyyonce  |\n",
      "|     1287867684     | divabybeyonce |\n",
      "| 755080172638965760 | beyonceyonce7 |\n",
      "+--------------------+---------------+\n"
     ]
    }
   ],
   "source": [
    "from prettytable import PrettyTable\n",
    "\n",
    "def load_data(filename):\n",
    "\tf = open(filename,'r', encoding='utf-8').read()\n",
    "\tcontent_json = json.loads(f)\n",
    "\treturn content_json\n",
    "\n",
    "friends = load_data(\"Iemonade_friends_info.json\")\n",
    "followers = load_data(\"Iemonade_followers_info.json\")\n",
    "print(len(friends))\n",
    "print(len(followers))\n",
    "\n",
    "friends_ids_names = [\t(friend[0]['id'], friend[0][\"screen_name\"])\n",
    "\t\t\t\t\t\tfor friend in friends[:20]\t]\n",
    "\n",
    "followers_ids_names = [\t(follower[0]['id'], follower[0][\"screen_name\"])\n",
    "\t\t\t\t\t\tfor follower in followers[:20]\t]\n",
    "\n",
    "pt_friends = PrettyTable(field_names = ['friend_id', 'friend_name'])\n",
    "[ pt_friends.add_row(row) for row in friends_ids_names]\n",
    "pt_followers = PrettyTable(field_names = ['follower_id', 'follower_name'])\n",
    "[ pt_followers.add_row(row) for row in followers_ids_names]\n",
    "\n",
    "print(pt_friends)\n",
    "print(pt_followers)"
   ]
  },
  {
   "cell_type": "markdown",
   "metadata": {},
   "source": [
    "*------------------------\n",
    "\n",
    "# Problem 4: Business question \n",
    "\n",
    "Run some additional experiments with your data to gain familiarity with the twitter data and twitter API.\n",
    "\n",
    "Question: what is the attitude of people toward new iPhone 7/7plus and it's new features?"
   ]
  },
  {
   "cell_type": "code",
   "execution_count": null,
   "metadata": {
    "collapsed": true
   },
   "outputs": [],
   "source": [
    "# code for draw pie plot\n",
    "import matplotlib.pyplot as plt\n",
    "\n",
    "\n",
    "def generic_bar_plot(D, num_shown=5, xlabel=\"\", ylabel=\"\", title=\"\"):\n",
    "\tsorted_D = sorted(D.items(), key=lambda t: t[1], reverse=True)\n",
    "\tprint(sorted_D)\n",
    "\tx, y = [], []\n",
    "\tfor pair in sorted_D[:num_shown]:\n",
    "\t\tx.append(pair[0])\n",
    "\t\ty.append(pair[1])\n",
    "\tplt.bar(range(len(y)), y, align='center', width=0.5)\n",
    "\tplt.xticks(range(len(x)), x)\n",
    "\tplt.xlabel(xlabel)\n",
    "\tplt.ylabel(ylabel)\n",
    "\tplt.title(title)\n",
    "\tplt.show()\n",
    "\n",
    "def generic_pie_plot(D, num_shown=5, include_others=True,\n",
    "\t\t\t\t\tstartangle=90,shadow=True, autopct='%1.1f%%', \n",
    "\t\t\t\t\txlabel=None, ylabel=None, title=None):\n",
    "\tsorted_D = sorted(D.items(), key=lambda t: t[1], reverse=True)\n",
    "\tprint(sorted_D)\n",
    "\tcolors = ['#87ceeb','#ffa500','#ff4500','b','g']*5\n",
    "\tcolors = colors[:num_shown]\n",
    "\tlabels = []\n",
    "\tslices = []\n",
    "\texplode = [0.1]+[0]*(num_shown-1)\n",
    "\tif include_others == True:\n",
    "\t\tsum_total = 0\n",
    "\t\tfor pair in sorted_D:\n",
    "\t\t\tsum_total += pair[1]\n",
    "\t\tshown_total = 0\n",
    "\t\tfor pair in sorted_D[:num_shown-1]:\n",
    "\t\t\tlabels.append(pair[0])\n",
    "\t\t\tslices.append(pair[1])\n",
    "\t\t\tshown_total += pair[1]\n",
    "\t\tlabels.append('Others')\n",
    "\t\tslices.append(sum_total-shown_total)\n",
    "\telse:\n",
    "\t\tfor pair in sorted_D[:num_shown]:\n",
    "\t\t\tlabels.append(pair[0])\n",
    "\t\t\tslices.append(pair[1])\n",
    "\tplt.pie(slices,labels=labels,colors = colors,startangle = startangle, \n",
    "\t\t\t\tshadow = True, explode = explode, autopct = autopct)\n",
    "\tif xlabel==None and ylabel==None and title==None:\n",
    "\t\tplt.show()\n",
    "\telif xlabel==None and ylabel==None:\n",
    "\t\tplt.title(title)\n",
    "\t\tplt.show()\n",
    "\telse:\n",
    "\t\tplt.xlabel(xlabel)\n",
    "\t\tplt.ylabel(ylabel)\n",
    "\t\tplt.title(title)\n",
    "\t\tplt.show()\n",
    "\n",
    "\n",
    "def number_bar_plot(D, xlabel=\"\", ylabel=\"\", title=\"\"):\n",
    "\tsorted_D = sorted(D.items(), key=lambda t: t[0])\n",
    "\tprint(sorted_D)\n",
    "\tx, y = [], []\n",
    "\tfor pair in sorted_D:\n",
    "\t\tx.append(pair[0])\n",
    "\t\ty.append(pair[1])\n",
    "\tplt.bar(x, y, align='center', width=0.5)\n",
    "\tplt.title(title)\n",
    "\tplt.xlabel(xlabel)\n",
    "\tplt.ylabel(ylabel)\n",
    "\tplt.show()\n"
   ]
  },
  {
   "cell_type": "code",
   "execution_count": 7,
   "metadata": {
    "collapsed": true
   },
   "outputs": [],
   "source": [
    "#Generate word libraries of positive words and negative words, respectively\n",
    "\n",
    "from nltk.corpus import twitter_samples, stopwords\n",
    "import string\n",
    "\n",
    "negative_tweets_abs = twitter_samples.abspath(\"negative_tweets.json\")\n",
    "positive_tweets_abs = twitter_samples.abspath(\"positive_tweets.json\")\n",
    "negative_word_tokenized = twitter_samples.tokenized(negative_tweets_abs)\n",
    "positive_word_tokenized = twitter_samples.tokenized(positive_tweets_abs)\n",
    "\n",
    "def unwanted():\n",
    "\tunwanted = list(stopwords.words('english'))\n",
    "\tunwanted += list(string.punctuation)\n",
    "\treturn unwanted \n",
    "\n",
    "unwanted_words_list = unwanted()\n",
    "\n",
    "def clean_up_word_set(ls):\n",
    "\tword_set = []\n",
    "\tfor l in ls:\n",
    "\t\tfor word in l:\n",
    "\t\t\tif word not in unwanted_words_list and word not in word_set:\n",
    "\t\t\t\tword_set.append(word)\n",
    "\treturn word_set\n",
    "\n",
    "negative_words = clean_up_word_set(negative_word_tokenized)\n",
    "positive_words = clean_up_word_set(positive_word_tokenized)\n",
    "\n",
    "with open(\"negative_words_cleaned.json\", \"w\", encoding='utf-8') as f_neg:\n",
    "\tf_neg.write(json.dumps(negative_words, indent=3))\n",
    "\n",
    "with open(\"positive_words_cleaned.json\", \"w\", encoding='utf-8') as f_pos:\n",
    "\tf_pos.write(json.dumps(positive_words, indent=3))\n"
   ]
  },
  {
   "cell_type": "code",
   "execution_count": 10,
   "metadata": {
    "collapsed": false
   },
   "outputs": [
    {
     "name": "stdout",
     "output_type": "stream",
     "text": [
      "Populating the interactive namespace from numpy and matplotlib\n",
      "[('negative', 14094), ('neutral', 14094), ('positive', 9059)]\n"
     ]
    },
    {
     "data": {
      "image/png": "[encoded data removed]",
      "text/plain": [
       "<matplotlib.figure.Figure at 0x17b21f8d0>"
      ]
     },
     "metadata": {},
     "output_type": "display_data"
    }
   ],
   "source": [
    "#analysis attitude of all tweets by using the aboved two libraries\n",
    "import matplotlib.pyplot as plt\n",
    "from TwitterPlot import generic_pie_plot\n",
    "%pylab inline\n",
    "\n",
    "def estimate_features(data, negative_words, positive_words):\n",
    "\tdata_strings = []\n",
    "\tfor tweet in data:\n",
    "\t\tif \"lang\" in tweet.keys() and tweet[\"lang\"]==\"en\" and \"text\" in tweet.keys() and len(tweet[\"text\"])!=0:\n",
    "\t\t\tdata_strings.append(tweet[\"text\"])\n",
    "\tscores_map = {}\n",
    "\tfor sentence in data_strings:\n",
    "\t\tscore = 0\n",
    "\t\twords_list = word_tokenize(sentence)\n",
    "\t\tfor word in words_list:\n",
    "\t\t\tif word in negative_words:\n",
    "\t\t\t\tscore -= 1\n",
    "\t\t\tif word in positive_words:\n",
    "\t\t\t\tscore += 1\n",
    "\t\tscores_map[score] = scores_map.get(score, 0) + 1\n",
    "\tsorted_scores = sorted(scores_map.items(), key=lambda t: t[0], reverse=True)\n",
    "\treturn sorted_scores\n",
    "\n",
    "def positive_negative_map(score_map):\n",
    "\tp_n_map = {\"positive\":0, \"negative\":0, \"neutral\":0}\n",
    "\tfor pair in score_map:\n",
    "\t\tif pair[0]>0:\n",
    "\t\t\tp_n_map[\"positive\"] += pair[1]\n",
    "\t\telif pair[0] == 0:\n",
    "\t\t\tp_n_map[\"neutral\"] += pair[1]\n",
    "\n",
    "\t\t\tp_n_map[\"negative\"] += pair[1]\n",
    "\treturn p_n_map\n",
    "\n",
    "\n",
    "negative_words = load_data(\"negative_words_cleaned.json\")\n",
    "positive_words = load_data(\"positive_words_cleaned.json\")\n",
    "data_strings = load_data(\"combined_all.json\")\n",
    "\n",
    "score_map = estimate_features(data_strings, negative_words, positive_words)\n",
    "p_n_map = positive_negative_map(score_map)\n",
    "generic_pie_plot(p_n_map, num_shown=3, include_others=False)"
   ]
  },
  {
   "cell_type": "code",
   "execution_count": 5,
   "metadata": {
    "collapsed": false
   },
   "outputs": [
    {
     "name": "stdout",
     "output_type": "stream",
     "text": [
      "Populating the interactive namespace from numpy and matplotlib\n",
      "[('neutral', 273), ('positive', 191), ('negative', 49)]\n"
     ]
    },
    {
     "data": {
      "image/png": "[encoded data removed]",
      "text/plain": [
       "<matplotlib.figure.Figure at 0x184a61ac8>"
      ]
     },
     "metadata": {},
     "output_type": "display_data"
    }
   ],
   "source": [
    "from nltk.tokenize import word_tokenize\n",
    "import json\n",
    "from nltk.corpus import twitter_samples, stopwords\n",
    "import string\n",
    "from TwitterPlot import generic_pie_plot, number_bar_plot\n",
    "import matplotlib.pyplot as plt\n",
    "%pylab inline\n",
    "\n",
    "def load_data(filename):\n",
    "    f = open(filename,'r', encoding='utf-8').read()\n",
    "    content_json = json.loads(f)\n",
    "    return content_json\n",
    "\n",
    "def estimate_keyword_features(data, keywords_lst, negative_words, positive_words):\n",
    "\tdata_strings = []\n",
    "\tfor tweet in data:\n",
    "\t\tif \"lang\" in tweet.keys() and tweet[\"lang\"]==\"en\" and \"text\" in tweet.keys() and len(tweet[\"text\"])!=0:\n",
    "\t\t\tto_be_added = \"\"\n",
    "\t\t\tfor keyword in keywords_lst:\n",
    "\t\t\t\tif keyword.lower() in tweet['text'].lower() and tweet[\"text\"]!= to_be_added:\n",
    "\t\t\t\t\tto_be_added = tweet[\"text\"]\n",
    "\t\t\tif to_be_added != \"\":\n",
    "\t\t\t\tdata_strings.append(to_be_added)\n",
    "\tscores_map = {}\n",
    "\tfor sentence in data_strings:\n",
    "\t\tscore = 0\n",
    "\t\twords_list = word_tokenize(sentence)\n",
    "\t\tfor word in words_list:\n",
    "\t\t\tif word in negative_words:\n",
    "\t\t\t\tscore -= 1\n",
    "\t\t\tif word in positive_words:\n",
    "\t\t\t\tscore += 1\n",
    "\t\tscores_map[score] = scores_map.get(score, 0) + 1\n",
    "\tsorted_scores = sorted(scores_map.items(), key=lambda t: t[0], reverse=True)\n",
    "\treturn sorted_scores\n",
    "\n",
    "def positive_negative_plot(lst, title):\n",
    "\tp_n_map = {\"positive\":0, \"negative\":0, \"neutral\":0}\n",
    "\tfor pair in lst:\n",
    "\t\tif pair[0]>0:\n",
    "\t\t\tp_n_map[\"positive\"] += pair[1]\n",
    "\t\telif pair[0] == 0:\n",
    "\t\t\tp_n_map[\"neutral\"] += pair[1]\n",
    "\t\telse:\n",
    "\t\t\tp_n_map[\"negative\"] += pair[1]\n",
    "\tgeneric_pie_plot(p_n_map, num_shown=3, include_others=False, title=title)\n",
    "\n",
    "negative_words = load_data(\"negative_words_cleaned.json\")\n",
    "positive_words = load_data(\"positive_words_cleaned.json\")\n",
    "data_strings = load_data(\"combined_all.json\")\n",
    "query_jetblack = [\"jet black\", \"jet\", \"black\"]\n",
    "query_earphone = [\"earphone\", \"ear phone\", \"headphone\", \"lightning\", \"3.5\"]\n",
    "query_waterproof = [\"water\", \"waterproof\", \"swim\"]\n",
    "query_camera = [\"camera\", \"double\", \"dual\", \"zoom\"]\n",
    "\n",
    "\n",
    "camera = estimate_keyword_features(data_strings, query_camera, negative_words, positive_words)\n",
    "positive_negative_plot(camera, title=\"Camera\")\n"
   ]
  },
  {
   "cell_type": "code",
   "execution_count": 6,
   "metadata": {
    "collapsed": false
   },
   "outputs": [
    {
     "name": "stdout",
     "output_type": "stream",
     "text": [
      "[('negative', 732), ('neutral', 556), ('positive', 431)]\n"
     ]
    },
    {
     "data": {
      "image/png": "[encoded data removed]",
      "text/plain": [
       "<matplotlib.figure.Figure at 0x131125668>"
      ]
     },
     "metadata": {},
     "output_type": "display_data"
    }
   ],
   "source": [
    "earphone = estimate_keyword_features(data_strings, query_earphone, negative_words, positive_words)\n",
    "positive_negative_plot(earphone, title=\"Earphone\")\n"
   ]
  },
  {
   "cell_type": "code",
   "execution_count": 7,
   "metadata": {
    "collapsed": false
   },
   "outputs": [
    {
     "name": "stdout",
     "output_type": "stream",
     "text": [
      "[('neutral', 389), ('positive', 258), ('negative', 41)]\n"
     ]
    },
    {
     "data": {
      "image/png": "[encoded data removed]",
      "text/plain": [
       "<matplotlib.figure.Figure at 0x131148f98>"
      ]
     },
     "metadata": {},
     "output_type": "display_data"
    }
   ],
   "source": [
    "\n",
    "waterproof = estimate_keyword_features(data_strings, query_waterproof, negative_words, positive_words)\n",
    "positive_negative_plot(waterproof, title=\"Waterproof\")\n"
   ]
  },
  {
   "cell_type": "code",
   "execution_count": 11,
   "metadata": {
    "collapsed": false
   },
   "outputs": [
    {
     "name": "stdout",
     "output_type": "stream",
     "text": [
      "[('positive', 717), ('neutral', 287), ('negative', 205)]\n"
     ]
    },
    {
     "data": {
      "image/png": "[encoded data removed]",
      "text/plain": [
       "<matplotlib.figure.Figure at 0x184a618d0>"
      ]
     },
     "metadata": {},
     "output_type": "display_data"
    }
   ],
   "source": [
    "\n",
    "jetblack = estimate_keyword_features(data_strings, query_jetblack, negative_words, positive_words)\n",
    "positive_negative_plot(jetblack, title=\"Jetblack\")\n"
   ]
  },
  {
   "cell_type": "markdown",
   "metadata": {},
   "source": [
    "*-----------------\n",
    "# Done\n",
    "\n",
    "All set! \n",
    "\n",
    "** What do you need to submit?**\n",
    "\n",
    "* **Notebook File**: Save this IPython notebook, and find the notebook file in your folder (for example, \"filename.ipynb\"). This is the file you need to submit. Please make sure all the plotted tables and figures are in the notebook. If you used \"ipython notebook --pylab=inline\" to open the notebook, all the figures and tables should have shown up in the notebook.\n",
    "\n",
    "\n",
    "* **PPT Slides**: please prepare PPT slides (for 10 minutes' talk) to present about the case study . We will ask two teams which are randomly selected to present their case studies in class for this case study. \n",
    "\n",
    "* ** Report**: please prepare a report (less than 10 pages) to report what you found in the data.\n",
    "    * What data you collected? \n",
    "    * Why this topic is interesting or important to you? (Motivations)\n",
    "    * How did you analyse the data?\n",
    "    * What did you find in the data? \n",
    " \n",
    "     (please include figures or tables in the report, but no source code)\n",
    "\n",
    "Please compress all the files in a zipped file.\n",
    "\n",
    "\n",
    "** How to submit: **\n",
    "\n",
    "        Please submit through email to Prof. Paffenroth (rcpaffenroth@wpi.edu) *and* the TA Wen Liu (wliu3@wpi.edu).\n",
    "        \n",
    "** Note: Each team just needs to submits one submission **"
   ]
  },
  {
   "cell_type": "markdown",
   "metadata": {},
   "source": [
    "# Grading Criteria:\n",
    "\n",
    "** Totoal Points: 120 **\n",
    "\n",
    "\n",
    "---------------------------------------------------------------------------\n",
    "** Notebook:  **\n",
    "    Points: 80\n",
    "\n",
    "\n",
    "    -----------------------------------\n",
    "    Qestion 1:\n",
    "    Points: 20\n",
    "    -----------------------------------\n",
    "    \n",
    "    (1) Select a topic that you are interested in.\n",
    "    Points: 6 \n",
    "    \n",
    "    (2) Use Twitter Streaming API to sample a collection of tweets about this topic in real time. (It would be recommended that the number of tweets should be larger than 200, but smaller than 1 million. Please check whether the total number of tweets collected is larger than 200?\n",
    "    Points: 10 \n",
    "    \n",
    "    \n",
    "    (3) Store the tweets you downloaded into a local file (txt file or json file)\n",
    "    Points: 4 \n",
    "    \n",
    "    \n",
    "    -----------------------------------\n",
    "    Qestion 2:\n",
    "    Points: 20\n",
    "    -----------------------------------\n",
    "    \n",
    "    1. Word Count\n",
    "\n",
    "    (1) Use the tweets you collected in Problem 1, and compute the frequencies of the words being used in these tweets.\n",
    "    Points: 4 \n",
    "\n",
    "    (2) Plot a table of the top 30 words with their counts \n",
    "    Points: 4 \n",
    "    \n",
    "    2. Find the most popular tweets in your collection of tweets\n",
    "    plot a table of the top 10 tweets that are the most popular among your collection, i.e., the tweets with the largest number of retweet counts.\n",
    "    Points: 4 \n",
    "    \n",
    "    3. Find the most popular Tweet Entities in your collection of tweets\n",
    "\n",
    "    (1) plot a table of the top 10 hashtags, \n",
    "    Points: 4 \n",
    "\n",
    "    (2) top 10 user mentions that are the most popular in your collection of tweets.\n",
    "    Points: 4 \n",
    "    \n",
    "    \n",
    "    -----------------------------------\n",
    "    Qestion 3:\n",
    "    Points: 20\n",
    "    -----------------------------------\n",
    "    \n",
    "    (1) choose a popular twitter user who has many followers, such as \"ladygaga\".\n",
    "    Points: 4 \n",
    "\n",
    "    (2) Get the list of all friends and all followers of the twitter user.\n",
    "    Points: 4 \n",
    "\n",
    "    (3) Plot 20 out of the followers, plot their ID numbers and screen names in a table.\n",
    "    Points: 4 \n",
    "\n",
    "    (4) Plot 20 out of the friends (if the user has more than 20 friends), plot their ID numbers and screen names in a table.\n",
    "    Points: 4 \n",
    "    \n",
    "    (5) Compute the mutual friends within the two groups, i.e., the users who are in both friend list and follower list, plot their ID numbers and screen names in a table\n",
    "    Points: 4 \n",
    "  \n",
    "    -----------------------------------\n",
    "    Qestion 4:  Business question\n",
    "    Points: 20\n",
    "    -----------------------------------\n",
    "        Novelty: 10\n",
    "        Interestingness: 10\n",
    "    -----------------------------------\n",
    "    Run some additional experiments with your data to gain familiarity with the twitter data ant twitter API.  Come up with a business question and describe how Twitter data can help you answer that question.\n",
    "\n",
    "\n",
    "\n",
    "\n",
    "---------------------------------------------------------------------------\n",
    "** Report: communicate the results**\n",
    "    Points: 20\n",
    "\n",
    "(1) What data you collected?\n",
    "    Points: 5 \n",
    "\n",
    "(2) Why this topic is interesting or important to you? (Motivations)\n",
    "    Points: 5 \n",
    "\n",
    "(3) How did you analyse the data?\n",
    "    Points: 5 \n",
    "\n",
    "(4) What did you find in the data?\n",
    "(please include figures or tables in the report, but no source code)\n",
    "    Points: 5 \n",
    "\n",
    "\n",
    "\n",
    "---------------------------------------------------------------------------\n",
    "** Slides (for 10 minutes of presentation): Story-telling **\n",
    "    Points: 20\n",
    "\n",
    "\n",
    "1. Motivation about the data collection, why the topic is interesting to you.\n",
    "    Points: 5 \n",
    "\n",
    "2. Communicating Results (figure/table)\n",
    "    Points: 10 \n",
    "\n",
    "3. Story telling (How all the parts (data, analysis, result) fit together as a story?)\n",
    "    Points: 5 \n",
    "\n"
   ]
  },
  {
   "cell_type": "code",
   "execution_count": null,
   "metadata": {
    "collapsed": true
   },
   "outputs": [],
   "source": []
  }
 ],
 "metadata": {
  "anaconda-cloud": {},
  "kernelspec": {
   "display_name": "Python [Root]",
   "language": "python",
   "name": "Python [Root]"
  },
  "language_info": {
   "codemirror_mode": {
    "name": "ipython",
    "version": 3
   },
   "file_extension": ".py",
   "mimetype": "text/x-python",
   "name": "python",
   "nbconvert_exporter": "python",
   "pygments_lexer": "ipython3",
   "version": "3.5.2"
  }
 },
 "nbformat": 4,
 "nbformat_minor": 0
}
